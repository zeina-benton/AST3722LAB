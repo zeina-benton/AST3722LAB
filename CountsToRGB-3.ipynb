{
 "cells": [
  {
   "cell_type": "markdown",
   "id": "763bb5c8",
   "metadata": {},
   "source": [
    "# Counts to RGB conversion\n",
    "## This notebook is supposed to help you convert from counts in a fits file to the sorts of RGB image values that allow you to show the things that you want to show in your images\n",
    "## We're going to process some old images from a few years back to give you a sense of how to do that"
   ]
  },
  {
   "cell_type": "markdown",
   "id": "c18b81b0",
   "metadata": {},
   "source": [
    "Code to read in the images:"
   ]
  },
  {
   "cell_type": "code",
   "execution_count": 1,
   "id": "3017a3c0",
   "metadata": {},
   "outputs": [],
   "source": [
    "import numpy as np\n",
    "import os\n",
    "from astropy.io import fits\n",
    "\n",
    "%matplotlib inline"
   ]
  },
  {
   "cell_type": "code",
   "execution_count": 2,
   "id": "850f8850",
   "metadata": {},
   "outputs": [
    {
     "name": "stdout",
     "output_type": "stream",
     "text": [
      "/Users/zeinakellybenton/anaconda3/bin/python\n",
      "3.10.9 (main, Mar  1 2023, 12:20:14) [Clang 14.0.6 ]\n"
     ]
    }
   ],
   "source": [
    "import sys\n",
    "print(sys.executable)  # Shows the exact Python path being used\n",
    "print(sys.version)     # Shows the Python version\n"
   ]
  },
  {
   "cell_type": "code",
   "execution_count": 3,
   "id": "efc53ef4",
   "metadata": {},
   "outputs": [],
   "source": [
    "# you'll need to change directories potentially \n",
    "#if your image files are not stored in the same folder as this notebook\n",
    "#os.chdir( '/data/home/jtayar/Documents/teaching/22A_AST3722/Adam/AST3722/2020_spring/ccdimages/AST3722C_Spring20_Group2')"
   ]
  },
  {
   "cell_type": "code",
   "execution_count": 4,
   "id": "dabe0bb9",
   "metadata": {},
   "outputs": [
    {
     "name": "stdout",
     "output_type": "stream",
     "text": [
      "m42_B_15s001.FIT m42_V_15s001.FIT\n"
     ]
    }
   ],
   "source": [
    "#filenames for some B V and I exposures for M42. We'll pretend these are already averaged and corrected\n",
    "# (they aren't)\n",
    "m42Bfile=\"m42_B_15s001.FIT\"\n",
    "m42Vfile=\"m42_V_15s001.FIT\"\n",
    "m42Ifile=\"m42_I001.FIT\"\n",
    "print(m42Bfile, m42Vfile)"
   ]
  },
  {
   "cell_type": "code",
   "execution_count": 5,
   "id": "7601b80b",
   "metadata": {},
   "outputs": [
    {
     "name": "stdout",
     "output_type": "stream",
     "text": [
      "15.0 15.0 5.0\n"
     ]
    }
   ],
   "source": [
    "# Check exposure times are all the same\n",
    "print(fits.getheader(m42Bfile)['EXPTIME'],fits.getheader(m42Vfile)['EXPTIME'],fits.getheader(m42Ifile)['EXPTIME'] )"
   ]
  },
  {
   "cell_type": "markdown",
   "id": "adc315a3",
   "metadata": {},
   "source": [
    "They definitely are not all the same exposure time so we'll have to correct for that and multiply the counts in the I filter by 3"
   ]
  },
  {
   "cell_type": "code",
   "execution_count": 6,
   "id": "b9669c92",
   "metadata": {},
   "outputs": [],
   "source": [
    "#read in the data\n",
    "m42B= np.array([fits.getdata(m42Bfile)])\n",
    "m42V= np.array([fits.getdata(m42Vfile)])\n",
    "m42I= np.array([fits.getdata(m42Ifile)])\n"
   ]
  },
  {
   "cell_type": "code",
   "execution_count": 7,
   "id": "6b57262a",
   "metadata": {},
   "outputs": [
    {
     "name": "stdout",
     "output_type": "stream",
     "text": [
      "1037 65535\n",
      "1063 65501\n",
      "1007 62494\n"
     ]
    }
   ],
   "source": [
    "print(m42B.min(), m42B.max())\n",
    "print(m42V.min(), m42V.max())\n",
    "print(m42I.min(), m42I.max())"
   ]
  },
  {
   "cell_type": "code",
   "execution_count": 8,
   "id": "b0c7f2a6",
   "metadata": {},
   "outputs": [],
   "source": [
    "#Bias subtract and correct for the time difference for the I exposure\n",
    "\n",
    "\n",
    "m42B=m42B-1000\n",
    "m42V=m42V-1000\n",
    "m42I=m42I-1000\n",
    "m42I=m42I*3.\n",
    "\n",
    "#note that I am not dark correcting here, or dividing by the flat field. You will for your data of course. \n",
    "# you also need to combine multiple exposures, here I'm only using one of each color"
   ]
  },
  {
   "cell_type": "code",
   "execution_count": 9,
   "id": "78aa798f",
   "metadata": {},
   "outputs": [
    {
     "name": "stdout",
     "output_type": "stream",
     "text": [
      "Using matplotlib backend: <object object at 0x104343570>\n"
     ]
    }
   ],
   "source": [
    "%matplotlib \n",
    "\n",
    "import pylab as pl\n",
    "pl.rcParams['image.origin'] = 'lower'\n",
    "pl.style.use ('dark_background')\n",
    "\n",
    "pl.close()"
   ]
  },
  {
   "cell_type": "code",
   "execution_count": null,
   "id": "c5a9da5a",
   "metadata": {},
   "outputs": [],
   "source": []
  },
  {
   "cell_type": "code",
   "execution_count": 10,
   "id": "91e75ad9",
   "metadata": {},
   "outputs": [],
   "source": [
    "m42median=np.median([m42B,m42V,m42I],axis=0)"
   ]
  },
  {
   "cell_type": "code",
   "execution_count": 11,
   "id": "d14eee54",
   "metadata": {},
   "outputs": [
    {
     "name": "stdout",
     "output_type": "stream",
     "text": [
      "37 64535\n",
      "63 64501\n",
      "21.0 184482.0\n"
     ]
    }
   ],
   "source": [
    "print(m42B.min(), m42B.max())\n",
    "print(m42V.min(), m42V.max())\n",
    "print(m42I.min(), m42I.max())\n"
   ]
  },
  {
   "cell_type": "code",
   "execution_count": 12,
   "id": "0dd7dec0",
   "metadata": {},
   "outputs": [],
   "source": [
    "#Plot a zoomed out version\n",
    "pl.figure(figsize=(11,11))\n",
    "ax=pl.subplot(2,2,1)\n",
    "ax.imshow(m42B[0,:,:], vmin=0, vmax=3000)\n",
    "ax.plot(25, 25, 'kx', markersize=20)\n",
    "pl.title('M42 B')\n",
    "ax=pl.subplot(2,2,2)\n",
    "ax.imshow(m42V[0,:,:], vmin=0, vmax=3000)\n",
    "ax.plot(25, 25, 'kx', markersize=20)\n",
    "pl.title('M42 V')\n",
    "ax=pl.subplot(2,2,3)\n",
    "ax.imshow(m42I[0,:,:], vmin=0, vmax=3000)\n",
    "ax.plot(25, 25,'kx', markersize=20)\n",
    "pl.title('M42 I')\n",
    "ax=pl.subplot(2,2,4)\n",
    "ax.imshow(m42median[0,:,:], vmin=0, vmax=3000)\n",
    "ax.plot(25, 25, 'kx', markersize=20)\n",
    "pl.title('M42 Median image')\n",
    "\n",
    "\n",
    "\n",
    "pl.close()"
   ]
  },
  {
   "cell_type": "code",
   "execution_count": 13,
   "id": "8365d01f",
   "metadata": {},
   "outputs": [],
   "source": [
    "#plot a zoomed in version to check alignment\n",
    "import pylab as pl\n",
    "\n",
    "pl.figure(figsize=(11,11))\n",
    "ax=pl.subplot(2,2,1)\n",
    "ax.imshow(m42B[0,350:450,50:150],  vmin=0, vmax=3000)\n",
    "ax.plot(50, 50, 'kx', markersize=20)\n",
    "pl.title('M42 B')\n",
    "ax=pl.subplot(2,2,2)\n",
    "ax.imshow(m42V[0,350:450,50:150], vmin=0, vmax=3000)\n",
    "ax.plot(50, 50, 'kx', markersize=20)\n",
    "pl.title('M42 V')\n",
    "ax=pl.subplot(2,2,3)\n",
    "ax.imshow(m42I[0,350:450,50:150],  vmin=0, vmax=3000)\n",
    "ax.plot(50, 50,'kx', markersize=20)\n",
    "pl.title('M42 I')\n",
    "ax=pl.subplot(2,2,4)\n",
    "ax.imshow(m42median[0,350:450,50:150], vmin=0, vmax=3000)\n",
    "ax.plot(50, 50, 'kx', markersize=20)\n",
    "pl.title('M42 Median')\n",
    "\n",
    "\n",
    "\n",
    "pl.close()"
   ]
  },
  {
   "cell_type": "code",
   "execution_count": 14,
   "id": "1dd63fcf",
   "metadata": {},
   "outputs": [],
   "source": [
    "# images not aligned, so roll them\n",
    "\n",
    "m42Balign=np.roll(np.roll(m42B,0, axis=1), 9, axis=2)\n",
    "m42Valign=np.roll(np.roll(m42V,1, axis=1), 20, axis=2)\n",
    "m42Ialign=np.roll(np.roll(m42I,39, axis=1), -46, axis=2)\n",
    "\n",
    "m42alignmedian=np.median([m42Balign,m42Valign,m42Ialign],axis=0)"
   ]
  },
  {
   "cell_type": "code",
   "execution_count": 15,
   "id": "2a679c24",
   "metadata": {},
   "outputs": [],
   "source": [
    "#plot a zoomed in version to check roll\n",
    "pl.figure(figsize=(11,11))\n",
    "ax=pl.subplot(2,2,1)\n",
    "ax.imshow(m42Balign[0,350:450,50:150],  vmin=0, vmax=3000)\n",
    "ax.plot(50, 50, 'kx', markersize=20)\n",
    "pl.title('M42 B')\n",
    "ax=pl.subplot(2,2,2)\n",
    "ax.imshow(m42Valign[0,350:450,50:150], vmin=0, vmax=3000)\n",
    "ax.plot(50, 50, 'kx', markersize=20)\n",
    "pl.title('M42 V')\n",
    "ax=pl.subplot(2,2,3)\n",
    "ax.imshow(m42Ialign[0,350:450,50:150],  vmin=0, vmax=3000)\n",
    "ax.plot(50, 50,'kx', markersize=20)\n",
    "pl.title('M42 I')\n",
    "ax=pl.subplot(2,2,4)\n",
    "ax.imshow(m42alignmedian[0,:,:], vmin=0, vmax=3000)\n",
    "ax.plot(50, 50, 'kx', markersize=20)\n",
    "pl.title('M42 Median')\n",
    "\n",
    "\n",
    "\n",
    "\n",
    "pl.close()"
   ]
  },
  {
   "cell_type": "markdown",
   "id": "70d419bb",
   "metadata": {},
   "source": [
    "Plot some histograms so that we can see the number of counts we are working with"
   ]
  },
  {
   "cell_type": "code",
   "execution_count": 16,
   "id": "02635f39",
   "metadata": {},
   "outputs": [],
   "source": [
    "import pylab as pl\n",
    "histresult=pl.hist(m42Balign.ravel(), bins=50, log=True)\n",
    "_=pl.xlabel(\"Counts\")\n",
    "_=pl.ylabel(\"Number of Pixels\")\n",
    "pl.show()\n",
    "\n",
    "\n",
    "\n",
    "\n",
    "pl.close()"
   ]
  },
  {
   "cell_type": "code",
   "execution_count": 17,
   "id": "6b04cbe6",
   "metadata": {},
   "outputs": [],
   "source": [
    "import pylab as pl\n",
    "histresult=pl.hist(m42Valign.ravel(), bins=50, log=True)\n",
    "_=pl.xlabel(\"Counts\")\n",
    "_=pl.ylabel(\"Number of Pixels\")\n",
    "\n",
    "\n",
    "\n",
    "pl.close()"
   ]
  },
  {
   "cell_type": "code",
   "execution_count": 18,
   "id": "8ca57df7",
   "metadata": {},
   "outputs": [],
   "source": [
    "import pylab as pl\n",
    "histresult=pl.hist(m42Ialign.ravel(), bins=50, log=True)\n",
    "_=pl.xlabel(\"Counts\")\n",
    "_=pl.ylabel(\"Number of Pixels\")\n",
    "\n",
    "\n",
    "\n",
    "\n",
    "pl.close()\n"
   ]
  },
  {
   "cell_type": "markdown",
   "id": "ec209014",
   "metadata": {},
   "source": [
    "note that some of these are saturated (counts> 60000). \n",
    "We'll ignore it for now, but hopefully it's not true in your lab"
   ]
  },
  {
   "cell_type": "markdown",
   "id": "079e8e54",
   "metadata": {},
   "source": [
    "now that everything is aligned, we'll convert to a color image. \n",
    "To do that, the color values need to either be [0,255] or [0,1]\n",
    " The simplest way to make that happen is to divide by the maximum value\n",
    " which is 184482"
   ]
  },
  {
   "cell_type": "code",
   "execution_count": 19,
   "id": "a1fdc72e",
   "metadata": {},
   "outputs": [
    {
     "name": "stdout",
     "output_type": "stream",
     "text": [
      "0.00020056157240272763 0.3498173263516224\n"
     ]
    }
   ],
   "source": [
    "m42Balign_norm=m42Balign/184482\n",
    "m42Valign_norm=m42Valign/184482\n",
    "m42Ialign_norm=m42Ialign/184482\n",
    "print( m42Balign_norm.min(), m42Balign_norm.max()) "
   ]
  },
  {
   "cell_type": "code",
   "execution_count": 20,
   "id": "ea1ca357",
   "metadata": {},
   "outputs": [],
   "source": [
    "pl.figure(figsize=(11,11))\n",
    "m42color1=np.dstack([m42Ialign_norm[0,:,:], m42Valign_norm[0,:,:], m42Balign_norm[0,:,:]])\n",
    "_=pl.imshow(m42color1)\n",
    "\n",
    "\n",
    "\n",
    "\n",
    "\n",
    "pl.close()"
   ]
  },
  {
   "cell_type": "markdown",
   "id": "921edc83",
   "metadata": {},
   "source": [
    "The simplest way is unfortunately not always the best way. The stars are there, and they're sort of bluish which seems right. Unfortunately the rest of the image looks pretty bad, there's no nebula at all!"
   ]
  },
  {
   "cell_type": "markdown",
   "id": "e8559c24",
   "metadata": {},
   "source": [
    "We're going to do some masking, where we say anything below some value is noise/junk, and so we just set it to that value (removes background graininess). We're also going to mask out anything bright, so it's easier to see the fainter nebular emission"
   ]
  },
  {
   "cell_type": "code",
   "execution_count": 21,
   "id": "c2b0f347",
   "metadata": {},
   "outputs": [
    {
     "name": "stdout",
     "output_type": "stream",
     "text": [
      "0.0 1.0\n"
     ]
    }
   ],
   "source": [
    "#note that I'm using the np.where() function here to do my masking. \n",
    "#This is really more of an IDL way to do things than proper pythonic workflow\n",
    "#but it works so we'll go with it\n",
    "\n",
    "m42Balign_mask=np.where(m42Balign<200,200,m42Balign)\n",
    "m42Balign_mask2=np.where(m42Balign_mask>1400,1400,m42Balign_mask)\n",
    "\n",
    "m42Valign_mask=np.where(m42Valign<200,200,m42Valign)\n",
    "m42Valign_mask2=np.where(m42Valign_mask>1400,1400,m42Valign_mask)\n",
    "\n",
    "m42Ialign_mask=np.where(m42Ialign<200,200,m42Ialign)\n",
    "m42Ialign_mask2=np.where(m42Ialign_mask>1400,1400,m42Ialign_mask)\n",
    "#values now run from 200 to 1400\n",
    "#subtract 200 to make them run from 0 to 1200, and then divide by 1200\n",
    "\n",
    "m42Balign_mask2_norm=(m42Balign_mask2-200)/1200\n",
    "m42Valign_mask2_norm=(m42Valign_mask2-200)/1200\n",
    "m42Ialign_mask2_norm=(m42Ialign_mask2-200)/1200\n",
    "print( m42Ialign_mask2_norm.min(), m42Ialign_mask2_norm.max())"
   ]
  },
  {
   "cell_type": "code",
   "execution_count": 22,
   "id": "51ffa608",
   "metadata": {},
   "outputs": [],
   "source": [
    "pl.figure(figsize=(11,11))\n",
    "m42color2=np.dstack([m42Ialign_mask2_norm[0,:,:], m42Valign_mask2_norm[0,:,:], m42Balign_mask2_norm[0,:,:]])\n",
    "_=pl.imshow(m42color2)\n",
    "\n",
    "\n",
    "pl.close()\n",
    "\n",
    "\n",
    "#I had to add pl.close() after every picture because it all loads in at \n",
    "#once for me and crashed my computer.\n"
   ]
  },
  {
   "cell_type": "markdown",
   "id": "1022de8c",
   "metadata": {},
   "source": [
    "Here we have lost all the color information for the bright stars themselves (they're all white by construction), \n",
    "but we've stretched the scale to emphasize the background nebulosity\n",
    "the nebula is green and the background stars are red. "
   ]
  },
  {
   "cell_type": "markdown",
   "id": "5d61961a",
   "metadata": {},
   "source": [
    "## STUDENT EXERCISE: How would you alter the masking procedure to remove all of the faint (nebular) emission and make a nice image containing only the bright stars?"
   ]
  },
  {
   "cell_type": "code",
   "execution_count": 23,
   "id": "9414b48e",
   "metadata": {},
   "outputs": [
    {
     "name": "stdout",
     "output_type": "stream",
     "text": [
      "0.0 1.0\n"
     ]
    }
   ],
   "source": [
    "#student masking code goes here:\n",
    "\n",
    "\n",
    "m42Balign_mask = np.where(m42Balign < 100, 100, m42Balign)\n",
    "m42Balign_mask3 = np.where(m42Balign_mask > 1300, 1300, m42Balign_mask)\n",
    "\n",
    "m42Valign_mask = np.where(m42Valign < 100, 100, m42Valign)\n",
    "m42Valign_mask3 = np.where(m42Valign_mask > 1300, 1300, m42Valign_mask)\n",
    "\n",
    "m42Ialign_mask = np.where(m42Ialign < 100, 100, m42Ialign)\n",
    "m42Ialign_mask3 = np.where(m42Ialign_mask > 1300, 1300, m42Ialign_mask)\n",
    "\n",
    "\n",
    "m42Balign_mask3_norm = (m42Balign_mask3 - 100) / (1300 - 100)\n",
    "m42Valign_mask3_norm = (m42Valign_mask3 - 100) / (1300 - 100)\n",
    "m42Ialign_mask3_norm = (m42Ialign_mask3 - 100) / (1300 - 100)\n",
    "\n",
    "\n",
    "print(m42Ialign_mask3_norm.min(), m42Ialign_mask3_norm.max())\n"
   ]
  },
  {
   "cell_type": "code",
   "execution_count": 24,
   "id": "3c184d27",
   "metadata": {},
   "outputs": [
    {
     "name": "stderr",
     "output_type": "stream",
     "text": [
      "Clipping input data to the valid range for imshow with RGB data ([0..1] for floats or [0..255] for integers).\n"
     ]
    }
   ],
   "source": [
    "#student code to plot the new image of only the stars goes here.\n",
    "#I expect the stars to be bluish not white like they were in my version.\n",
    "\n",
    "pl.figure(figsize=(11,11))\n",
    "m42color3 = np.dstack([\n",
    "    m42Ialign_mask3_norm[0, :, :] * 0.6,  \n",
    "    m42Valign_mask3_norm[0, :, :] * 0.8, \n",
    "    m42Balign_mask3_norm[0, :, :] * 1.1\n",
    "    ])\n",
    "_=pl.title('Zeinas Try')\n",
    "_=pl.imshow(m42color3)\n",
    "\n",
    "\n",
    "pl.savefig('m42_Zeinastry1_image.png', dpi=300)\n",
    "\n",
    "\n",
    "\n",
    "\n",
    "pl.close()"
   ]
  },
  {
   "cell_type": "markdown",
   "id": "5b644a6a",
   "metadata": {},
   "source": [
    "# In my version, I enhanced more of the nebular emission to see how far the gas/dust spreads out and the stars are less yellow bright and more bluish. I lowered the faint star limit and the saturation limit.\n"
   ]
  },
  {
   "cell_type": "markdown",
   "id": "49b36f7a",
   "metadata": {},
   "source": [
    "Next question, can we preserve information about the color for the bright stars at the same time as we show the nebulosity? To do that we need a large dynmaic range in brightness, so lets try\n",
    " a log scaling"
   ]
  },
  {
   "cell_type": "code",
   "execution_count": 25,
   "id": "d6c1c281",
   "metadata": {},
   "outputs": [
    {
     "name": "stdout",
     "output_type": "stream",
     "text": [
      "2.30103 2.30103 2.3010299956639813 5.26595399823475\n"
     ]
    }
   ],
   "source": [
    "m42Balign_mask_log=np.where(m42Balign<200,200,m42Balign)\n",
    "\n",
    "m42Valign_mask_log=np.where(m42Valign<200,200,m42Valign)\n",
    "\n",
    "m42Ialign_mask_log=np.where(m42Ialign<200,200,m42Ialign)\n",
    "\n",
    "m42Balign_mask_loged=np.log10(m42Balign_mask_log)\n",
    "m42Valign_mask_loged=np.log10(m42Valign_mask_log)\n",
    "m42Ialign_mask_loged=np.log10(m42Ialign_mask_log)\n",
    "\n",
    "print(m42Balign_mask_loged.min(),m42Valign_mask_loged.min(), m42Ialign_mask_loged.min(),m42Ialign_mask_loged.max())\n",
    "\n"
   ]
  },
  {
   "cell_type": "markdown",
   "id": "c51841b8",
   "metadata": {},
   "source": [
    "And then again, subtract the minimum value (m42Balign_mask_loged.min()) \n",
    "and divide by the dynamic range (m42Ialign_mask_loged.max()-m42Balign_mask_loged.min())\n",
    "to end up with values from 0 to 1"
   ]
  },
  {
   "cell_type": "code",
   "execution_count": 26,
   "id": "c5bba31e",
   "metadata": {},
   "outputs": [
    {
     "name": "stdout",
     "output_type": "stream",
     "text": [
      "2.9649240776567467\n",
      "2.5324755830909316e-08 1.0\n"
     ]
    }
   ],
   "source": [
    "print((m42Ialign_mask_loged.max()-m42Balign_mask_loged.min()))\n",
    "m42Balign_mask_loged_norm=(m42Balign_mask_loged-m42Balign_mask_loged.min())/(m42Ialign_mask_loged.max()-m42Balign_mask_loged.min())\n",
    "m42Valign_mask_loged_norm=(m42Valign_mask_loged-m42Balign_mask_loged.min())/(m42Ialign_mask_loged.max()-m42Balign_mask_loged.min())\n",
    "m42Ialign_mask_loged_norm=(m42Ialign_mask_loged-m42Balign_mask_loged.min())/(m42Ialign_mask_loged.max()-m42Balign_mask_loged.min())\n",
    "print( m42Ialign_mask_loged_norm.min(), m42Ialign_mask_loged_norm.max())"
   ]
  },
  {
   "cell_type": "code",
   "execution_count": 31,
   "id": "81b857e7",
   "metadata": {},
   "outputs": [],
   "source": [
    "pl.figure(figsize=(11,11))\n",
    "m42color4=np.dstack([m42Ialign_mask_loged_norm[0,:,:], m42Valign_mask_loged_norm[0,:,:], m42Balign_mask_loged_norm[0,:,:]])\n",
    "_=pl.title('Second Try')\n",
    "_=pl.imshow(m42color4)\n",
    "\n",
    "\n",
    "\n",
    "pl.close()"
   ]
  },
  {
   "cell_type": "markdown",
   "id": "77e76259",
   "metadata": {},
   "source": [
    " Now we're getting closer. The bright stars have a white or maybe bluish tinge, \n",
    "the green nebulosity is visible in the background\n",
    " and the faint (extincted?) stars behind the dust are reddish\n",
    " all at the same time. \n",
    " \n",
    " This still isn't great though (nebula too faint, lots of faint stars hard to see, etc)"
   ]
  },
  {
   "cell_type": "markdown",
   "id": "616b4144",
   "metadata": {},
   "source": [
    "## student exercise: other stretches"
   ]
  },
  {
   "cell_type": "markdown",
   "id": "a3be263a",
   "metadata": {},
   "source": [
    "A log scaling is not the only way to stretch the scale. You could imagine using ln(x), sqrt(x), or any other mathematic function you like to stretch it, each of which may make sense for a certain type of target"
   ]
  },
  {
   "cell_type": "markdown",
   "id": "9933878e",
   "metadata": {},
   "source": [
    "Here use the sqrt function in your stretching, rather than log10"
   ]
  },
  {
   "cell_type": "code",
   "execution_count": 28,
   "id": "03c78076",
   "metadata": {},
   "outputs": [],
   "source": [
    "m42Balign_mask_sqrt = np.where(m42Balign < 100, 100, m42Balign)\n",
    "m42Valign_mask_sqrt = np.where(m42Valign < 100, 100, m42Valign)\n",
    "m42Ialign_mask_sqrt = np.where(m42Ialign < 100, 100, m42Ialign)\n",
    "\n",
    "\n",
    "m42Balign_mask_sqrted = np.sqrt(m42Balign_mask_sqrt)\n",
    "m42Valign_mask_sqrted = np.sqrt(m42Valign_mask_sqrt)\n",
    "m42Ialign_mask_sqrted = np.sqrt(m42Ialign_mask_sqrt)"
   ]
  },
  {
   "cell_type": "code",
   "execution_count": 29,
   "id": "3b21ea61",
   "metadata": {
    "scrolled": true
   },
   "outputs": [
    {
     "name": "stdout",
     "output_type": "stream",
     "text": [
      "10.0 10.0 10.0 429.51367847834604\n",
      "419.51367847834604\n",
      "0.0 1.0\n"
     ]
    }
   ],
   "source": [
    "\n",
    "print(m42Balign_mask_sqrted.min(), m42Valign_mask_sqrted.min(), m42Ialign_mask_sqrted.min(), m42Ialign_mask_sqrted.max())\n",
    "print((m42Ialign_mask_sqrted.max() - m42Balign_mask_sqrted.min()))\n",
    "\n",
    "m42Balign_mask_sqrted_norm = (m42Balign_mask_sqrted - np.min(m42Balign_mask_sqrted)) / (np.max(m42Balign_mask_sqrted) - np.min(m42Balign_mask_sqrted))\n",
    "m42Valign_mask_sqrted_norm = (m42Valign_mask_sqrted - np.min(m42Valign_mask_sqrted)) / (np.max(m42Valign_mask_sqrted) - np.min(m42Valign_mask_sqrted))\n",
    "m42Ialign_mask_sqrted_norm = (m42Ialign_mask_sqrted - np.min(m42Ialign_mask_sqrted)) / (np.max(m42Ialign_mask_sqrted) - np.min(m42Ialign_mask_sqrted))\n",
    "\n",
    "print(m42Ialign_mask_sqrted_norm.min(), m42Ialign_mask_sqrted_norm.max())\n"
   ]
  },
  {
   "cell_type": "code",
   "execution_count": 30,
   "id": "76646e47",
   "metadata": {},
   "outputs": [],
   "source": [
    "#student code \n",
    "\n",
    "\n",
    "pl.figure(figsize=(11, 11))\n",
    "m42color5 = np.dstack([m42Ialign_mask_sqrted_norm[0,:,:], m42Valign_mask_sqrted_norm[0,:,:], m42Balign_mask_sqrted_norm[0,:,:]])\n",
    "\n",
    "\n",
    "_=pl.title('Zeinas try w/ Square Root')\n",
    "_=pl.imshow(m42color5)\n",
    "\n",
    "pl.savefig('m42_Zeinatry2_image.png', dpi=300)\n"
   ]
  },
  {
   "cell_type": "markdown",
   "id": "9feff3d1",
   "metadata": {},
   "source": [
    "# The sqare root does not seem to catch the nebular emission like the log does. Even when I try to lower the faint star limit / or raise, it doesn't change appearance. It does not compress the data as strongly as log does so it allows for higher contrast between values. I am assuming this is why they look so different.\n",
    "\n",
    "Side note: if my images do not load it is because I explained earlier that when I run this code normally it crashed my kernel. After every image I do pl.close() and it works. I am attaching the student exercise images with this code submission in case they do not load on their own from this."
   ]
  },
  {
   "cell_type": "markdown",
   "id": "7cf2918b",
   "metadata": {},
   "source": [
    "I expect you to do better than what is shown in this notebook for your images, but hopefully this will give you a starting point for how to change what you are displaying in to something where you can see the parts of the image that are interesting (aesthetically, or for whatever science you might be trying to do with it)"
   ]
  }
 ],
 "metadata": {
  "kernelspec": {
   "display_name": "Python 3 (ipykernel)",
   "language": "python",
   "name": "python3"
  },
  "language_info": {
   "codemirror_mode": {
    "name": "ipython",
    "version": 3
   },
   "file_extension": ".py",
   "mimetype": "text/x-python",
   "name": "python",
   "nbconvert_exporter": "python",
   "pygments_lexer": "ipython3",
   "version": "3.10.9"
  }
 },
 "nbformat": 4,
 "nbformat_minor": 5
}
