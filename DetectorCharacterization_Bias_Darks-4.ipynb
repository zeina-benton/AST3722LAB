{
 "cells": [
  {
   "cell_type": "code",
   "execution_count": 1,
   "id": "6389db02",
   "metadata": {},
   "outputs": [
    {
     "name": "stdout",
     "output_type": "stream",
     "text": [
      "/Users/zeinakellybenton/obs_tech\n"
     ]
    }
   ],
   "source": [
    "import os\n",
    "print(os.getcwd())"
   ]
  },
  {
   "cell_type": "code",
   "execution_count": 2,
   "id": "b9822896",
   "metadata": {},
   "outputs": [
    {
     "name": "stdout",
     "output_type": "stream",
     "text": [
      "Bias_02_12_2020001.FIT\r\n",
      "Bias_02_12_2020002.FIT\r\n",
      "Bias_02_12_2020003.FIT\r\n",
      "Bias_02_12_2020004.FIT\r\n",
      "Bias_02_12_2020005.FIT\r\n",
      "Bias_02_12_2020006.FIT\r\n",
      "Bias_02_12_2020007.FIT\r\n",
      "Bias_02_12_2020008.FIT\r\n",
      "Bias_02_12_2020009.FIT\r\n",
      "Bias_02_12_2020010.FIT\r\n",
      "Dark_30s_02_12_2020001.FIT\r\n",
      "Dark_30s_02_12_2020002.FIT\r\n",
      "Dark_30s_02_12_2020003.FIT\r\n",
      "Dark_30s_02_12_2020004.FIT\r\n",
      "Dark_30s_02_12_2020005.FIT\r\n",
      "Dark_30s_02_12_2020006.FIT\r\n",
      "Dark_30s_02_12_2020007.FIT\r\n",
      "Dark_30s_02_12_2020008.FIT\r\n",
      "Dark_30s_02_12_2020009.FIT\r\n",
      "Dark_30s_02_12_2020010.FIT\r\n",
      "Flats_B_10s_02_12_2020001.FIT\r\n",
      "Flats_B_10s_02_12_2020002.FIT\r\n",
      "Flats_B_10s_02_12_2020003.FIT\r\n",
      "Flats_B_10s_02_12_2020004.FIT\r\n",
      "Flats_B_10s_02_12_2020005.FIT\r\n",
      "Flats_I_10s_02_12_2020001.FIT\r\n",
      "Flats_I_10s_02_12_2020002.FIT\r\n",
      "Flats_I_10s_02_12_2020003.FIT\r\n",
      "Flats_I_10s_02_12_2020004.FIT\r\n",
      "Flats_I_10s_02_12_2020005.FIT\r\n",
      "Flats_V_10s_02_12_2020001.FIT\r\n",
      "Flats_V_10s_02_12_2020002.FIT\r\n",
      "Flats_V_10s_02_12_2020003.FIT\r\n",
      "Flats_V_10s_02_12_2020004.FIT\r\n",
      "Flats_V_10s_02_12_2020005.FIT\r\n",
      "StarsNearNGCTopLeft_B_30s_02_12_2020001.FIT\r\n",
      "StarsNearNGCTopLeft_B_30s_02_12_2020002.FIT\r\n",
      "StarsNearNGCTopLeft_B_30s_02_12_2020003.FIT\r\n",
      "StarsNearNGCTopLeft_I_30s_02_12_2020001.FIT\r\n",
      "StarsNearNGCTopLeft_I_30s_02_12_2020002.FIT\r\n",
      "StarsNearNGCTopLeft_I_30s_02_12_2020003.FIT\r\n",
      "StarsNearNGCTopLeft_V_30s_02_12_2020001.FIT\r\n",
      "StarsNearNGCTopLeft_V_30s_02_12_2020002.FIT\r\n",
      "StarsNearNGCTopLeft_V_30s_02_12_2020003.FIT\r\n",
      "target_image.FIT\r\n"
     ]
    }
   ],
   "source": [
    "ls *.FIT\n"
   ]
  },
  {
   "cell_type": "code",
   "execution_count": 3,
   "id": "cbc2b680",
   "metadata": {},
   "outputs": [
    {
     "data": {
      "text/plain": [
       "['StarsNearNGCTopLeft_B_30s_02_12_2020002.FIT',\n",
       " 'Flats_B_10s_02_12_2020001.FIT',\n",
       " 'StarsNearNGCTopLeft_B_30s_02_12_2020003.FIT',\n",
       " 'StarsNearNGCTopLeft_B_30s_02_12_2020001.FIT',\n",
       " 'Flats_B_10s_02_12_2020003.FIT',\n",
       " 'Flats_B_10s_02_12_2020002.FIT',\n",
       " 'Flats_B_10s_02_12_2020005.FIT',\n",
       " 'target_image.FIT',\n",
       " 'Flats_B_10s_02_12_2020004.FIT',\n",
       " 'Dark_30s_02_12_2020004.FIT',\n",
       " 'Dark_30s_02_12_2020010.FIT',\n",
       " 'Bias_02_12_2020009.FIT',\n",
       " 'Bias_02_12_2020008.FIT',\n",
       " 'Dark_30s_02_12_2020005.FIT',\n",
       " 'Dark_30s_02_12_2020007.FIT',\n",
       " 'Dark_30s_02_12_2020006.FIT',\n",
       " 'Dark_30s_02_12_2020002.FIT',\n",
       " 'Dark_30s_02_12_2020003.FIT',\n",
       " 'Dark_30s_02_12_2020001.FIT',\n",
       " 'Bias_02_12_2020001.FIT',\n",
       " 'Flats_I_10s_02_12_2020004.FIT',\n",
       " 'Bias_02_12_2020003.FIT',\n",
       " 'Bias_02_12_2020002.FIT',\n",
       " 'Flats_I_10s_02_12_2020005.FIT',\n",
       " 'Flats_I_10s_02_12_2020001.FIT',\n",
       " 'StarsNearNGCTopLeft_I_30s_02_12_2020003.FIT',\n",
       " 'Bias_02_12_2020006.FIT',\n",
       " 'Bias_02_12_2020007.FIT',\n",
       " 'StarsNearNGCTopLeft_I_30s_02_12_2020002.FIT',\n",
       " 'Flats_I_10s_02_12_2020002.FIT',\n",
       " 'Dark_30s_02_12_2020008.FIT',\n",
       " 'Bias_02_12_2020005.FIT',\n",
       " 'Bias_02_12_2020004.FIT',\n",
       " 'Bias_02_12_2020010.FIT',\n",
       " 'StarsNearNGCTopLeft_I_30s_02_12_2020001.FIT',\n",
       " 'Dark_30s_02_12_2020009.FIT',\n",
       " 'Flats_I_10s_02_12_2020003.FIT',\n",
       " 'StarsNearNGCTopLeft_V_30s_02_12_2020003.FIT',\n",
       " 'Flats_V_10s_02_12_2020001.FIT',\n",
       " 'StarsNearNGCTopLeft_V_30s_02_12_2020002.FIT',\n",
       " 'Flats_V_10s_02_12_2020002.FIT',\n",
       " 'Flats_V_10s_02_12_2020003.FIT',\n",
       " 'StarsNearNGCTopLeft_V_30s_02_12_2020001.FIT',\n",
       " 'Flats_V_10s_02_12_2020004.FIT',\n",
       " 'Flats_V_10s_02_12_2020005.FIT']"
      ]
     },
     "execution_count": 3,
     "metadata": {},
     "output_type": "execute_result"
    }
   ],
   "source": [
    "import glob\n",
    "glob.glob(\"*.FIT\")"
   ]
  },
  {
   "cell_type": "code",
   "execution_count": 4,
   "id": "e4920f3c",
   "metadata": {},
   "outputs": [],
   "source": [
    "import matplotlib.pyplot as plt\n",
    "plt.rcParams['image.origin'] = 'lower' # this is needed to have 0,0 in the lower left\n",
    "plt.rcParams['image.interpolation'] = 'none' # this makes pixels less blurry\n",
    "# OPTIONAL: if you want to use a different stylesheet, use this line:\n",
    "#plt.style.use('dark_background')\n",
    "from astropy.io import fits"
   ]
  },
  {
   "cell_type": "code",
   "execution_count": 5,
   "id": "a6119fa1",
   "metadata": {},
   "outputs": [
    {
     "ename": "FileNotFoundError",
     "evalue": "[Errno 2] No such file or directory: 'bias_001.FIT'",
     "output_type": "error",
     "traceback": [
      "\u001b[0;31m---------------------------------------------------------------------------\u001b[0m",
      "\u001b[0;31mFileNotFoundError\u001b[0m                         Traceback (most recent call last)",
      "Cell \u001b[0;32mIn[5], line 2\u001b[0m\n\u001b[1;32m      1\u001b[0m bias_fn \u001b[38;5;241m=\u001b[39m \u001b[38;5;124m'\u001b[39m\u001b[38;5;124mbias_001.FIT\u001b[39m\u001b[38;5;124m'\u001b[39m\n\u001b[0;32m----> 2\u001b[0m data \u001b[38;5;241m=\u001b[39m \u001b[43mfits\u001b[49m\u001b[38;5;241;43m.\u001b[39;49m\u001b[43mgetdata\u001b[49m\u001b[43m(\u001b[49m\u001b[43mbias_fn\u001b[49m\u001b[43m)\u001b[49m\n",
      "File \u001b[0;32m~/anaconda3/lib/python3.10/site-packages/astropy/io/fits/convenience.py:220\u001b[0m, in \u001b[0;36mgetdata\u001b[0;34m(filename, header, lower, upper, view, *args, **kwargs)\u001b[0m\n\u001b[1;32m    215\u001b[0m extver \u001b[38;5;241m=\u001b[39m kwargs\u001b[38;5;241m.\u001b[39mget(\u001b[38;5;124m\"\u001b[39m\u001b[38;5;124mextver\u001b[39m\u001b[38;5;124m\"\u001b[39m)\n\u001b[1;32m    216\u001b[0m ext_given \u001b[38;5;241m=\u001b[39m \u001b[38;5;129;01mnot\u001b[39;00m (\n\u001b[1;32m    217\u001b[0m     \u001b[38;5;28mlen\u001b[39m(args) \u001b[38;5;241m==\u001b[39m \u001b[38;5;241m0\u001b[39m \u001b[38;5;129;01mand\u001b[39;00m ext \u001b[38;5;129;01mis\u001b[39;00m \u001b[38;5;28;01mNone\u001b[39;00m \u001b[38;5;129;01mand\u001b[39;00m extname \u001b[38;5;129;01mis\u001b[39;00m \u001b[38;5;28;01mNone\u001b[39;00m \u001b[38;5;129;01mand\u001b[39;00m extver \u001b[38;5;129;01mis\u001b[39;00m \u001b[38;5;28;01mNone\u001b[39;00m\n\u001b[1;32m    218\u001b[0m )\n\u001b[0;32m--> 220\u001b[0m hdulist, extidx \u001b[38;5;241m=\u001b[39m \u001b[43m_getext\u001b[49m\u001b[43m(\u001b[49m\u001b[43mfilename\u001b[49m\u001b[43m,\u001b[49m\u001b[43m \u001b[49m\u001b[43mmode\u001b[49m\u001b[43m,\u001b[49m\u001b[43m \u001b[49m\u001b[38;5;241;43m*\u001b[39;49m\u001b[43margs\u001b[49m\u001b[43m,\u001b[49m\u001b[43m \u001b[49m\u001b[38;5;241;43m*\u001b[39;49m\u001b[38;5;241;43m*\u001b[39;49m\u001b[43mkwargs\u001b[49m\u001b[43m)\u001b[49m\n\u001b[1;32m    221\u001b[0m \u001b[38;5;28;01mtry\u001b[39;00m:\n\u001b[1;32m    222\u001b[0m     hdu \u001b[38;5;241m=\u001b[39m hdulist[extidx]\n",
      "File \u001b[0;32m~/anaconda3/lib/python3.10/site-packages/astropy/io/fits/convenience.py:1121\u001b[0m, in \u001b[0;36m_getext\u001b[0;34m(filename, mode, ext, extname, extver, *args, **kwargs)\u001b[0m\n\u001b[1;32m   1118\u001b[0m \u001b[38;5;28;01melif\u001b[39;00m extver \u001b[38;5;129;01mand\u001b[39;00m extname \u001b[38;5;129;01mis\u001b[39;00m \u001b[38;5;28;01mNone\u001b[39;00m:\n\u001b[1;32m   1119\u001b[0m     \u001b[38;5;28;01mraise\u001b[39;00m \u001b[38;5;167;01mTypeError\u001b[39;00m(\u001b[38;5;124m\"\u001b[39m\u001b[38;5;124mextver alone cannot specify an extension.\u001b[39m\u001b[38;5;124m\"\u001b[39m)\n\u001b[0;32m-> 1121\u001b[0m hdulist \u001b[38;5;241m=\u001b[39m \u001b[43mfitsopen\u001b[49m\u001b[43m(\u001b[49m\u001b[43mfilename\u001b[49m\u001b[43m,\u001b[49m\u001b[43m \u001b[49m\u001b[43mmode\u001b[49m\u001b[38;5;241;43m=\u001b[39;49m\u001b[43mmode\u001b[49m\u001b[43m,\u001b[49m\u001b[43m \u001b[49m\u001b[38;5;241;43m*\u001b[39;49m\u001b[38;5;241;43m*\u001b[39;49m\u001b[43mkwargs\u001b[49m\u001b[43m)\u001b[49m\n\u001b[1;32m   1123\u001b[0m \u001b[38;5;28;01mreturn\u001b[39;00m hdulist, ext\n",
      "File \u001b[0;32m~/anaconda3/lib/python3.10/site-packages/astropy/io/fits/hdu/hdulist.py:223\u001b[0m, in \u001b[0;36mfitsopen\u001b[0;34m(name, mode, memmap, save_backup, cache, lazy_load_hdus, ignore_missing_simple, use_fsspec, fsspec_kwargs, decompress_in_memory, **kwargs)\u001b[0m\n\u001b[1;32m    220\u001b[0m \u001b[38;5;28;01mif\u001b[39;00m \u001b[38;5;129;01mnot\u001b[39;00m name:\n\u001b[1;32m    221\u001b[0m     \u001b[38;5;28;01mraise\u001b[39;00m \u001b[38;5;167;01mValueError\u001b[39;00m(\u001b[38;5;124mf\u001b[39m\u001b[38;5;124m\"\u001b[39m\u001b[38;5;124mEmpty filename: \u001b[39m\u001b[38;5;132;01m{\u001b[39;00mname\u001b[38;5;132;01m!r}\u001b[39;00m\u001b[38;5;124m\"\u001b[39m)\n\u001b[0;32m--> 223\u001b[0m \u001b[38;5;28;01mreturn\u001b[39;00m \u001b[43mHDUList\u001b[49m\u001b[38;5;241;43m.\u001b[39;49m\u001b[43mfromfile\u001b[49m\u001b[43m(\u001b[49m\n\u001b[1;32m    224\u001b[0m \u001b[43m    \u001b[49m\u001b[43mname\u001b[49m\u001b[43m,\u001b[49m\n\u001b[1;32m    225\u001b[0m \u001b[43m    \u001b[49m\u001b[43mmode\u001b[49m\u001b[43m,\u001b[49m\n\u001b[1;32m    226\u001b[0m \u001b[43m    \u001b[49m\u001b[43mmemmap\u001b[49m\u001b[43m,\u001b[49m\n\u001b[1;32m    227\u001b[0m \u001b[43m    \u001b[49m\u001b[43msave_backup\u001b[49m\u001b[43m,\u001b[49m\n\u001b[1;32m    228\u001b[0m \u001b[43m    \u001b[49m\u001b[43mcache\u001b[49m\u001b[43m,\u001b[49m\n\u001b[1;32m    229\u001b[0m \u001b[43m    \u001b[49m\u001b[43mlazy_load_hdus\u001b[49m\u001b[43m,\u001b[49m\n\u001b[1;32m    230\u001b[0m \u001b[43m    \u001b[49m\u001b[43mignore_missing_simple\u001b[49m\u001b[43m,\u001b[49m\n\u001b[1;32m    231\u001b[0m \u001b[43m    \u001b[49m\u001b[43muse_fsspec\u001b[49m\u001b[38;5;241;43m=\u001b[39;49m\u001b[43muse_fsspec\u001b[49m\u001b[43m,\u001b[49m\n\u001b[1;32m    232\u001b[0m \u001b[43m    \u001b[49m\u001b[43mfsspec_kwargs\u001b[49m\u001b[38;5;241;43m=\u001b[39;49m\u001b[43mfsspec_kwargs\u001b[49m\u001b[43m,\u001b[49m\n\u001b[1;32m    233\u001b[0m \u001b[43m    \u001b[49m\u001b[43mdecompress_in_memory\u001b[49m\u001b[38;5;241;43m=\u001b[39;49m\u001b[43mdecompress_in_memory\u001b[49m\u001b[43m,\u001b[49m\n\u001b[1;32m    234\u001b[0m \u001b[43m    \u001b[49m\u001b[38;5;241;43m*\u001b[39;49m\u001b[38;5;241;43m*\u001b[39;49m\u001b[43mkwargs\u001b[49m\u001b[43m,\u001b[49m\n\u001b[1;32m    235\u001b[0m \u001b[43m\u001b[49m\u001b[43m)\u001b[49m\n",
      "File \u001b[0;32m~/anaconda3/lib/python3.10/site-packages/astropy/io/fits/hdu/hdulist.py:487\u001b[0m, in \u001b[0;36mHDUList.fromfile\u001b[0;34m(cls, fileobj, mode, memmap, save_backup, cache, lazy_load_hdus, ignore_missing_simple, **kwargs)\u001b[0m\n\u001b[1;32m    468\u001b[0m \u001b[38;5;129m@classmethod\u001b[39m\n\u001b[1;32m    469\u001b[0m \u001b[38;5;28;01mdef\u001b[39;00m \u001b[38;5;21mfromfile\u001b[39m(\n\u001b[1;32m    470\u001b[0m     \u001b[38;5;28mcls\u001b[39m,\n\u001b[0;32m   (...)\u001b[0m\n\u001b[1;32m    478\u001b[0m     \u001b[38;5;241m*\u001b[39m\u001b[38;5;241m*\u001b[39mkwargs,\n\u001b[1;32m    479\u001b[0m ):\n\u001b[1;32m    480\u001b[0m     \u001b[38;5;124;03m\"\"\"\u001b[39;00m\n\u001b[1;32m    481\u001b[0m \u001b[38;5;124;03m    Creates an `HDUList` instance from a file-like object.\u001b[39;00m\n\u001b[1;32m    482\u001b[0m \n\u001b[0;32m   (...)\u001b[0m\n\u001b[1;32m    485\u001b[0m \u001b[38;5;124;03m    documentation for details of the parameters accepted by this method).\u001b[39;00m\n\u001b[1;32m    486\u001b[0m \u001b[38;5;124;03m    \"\"\"\u001b[39;00m\n\u001b[0;32m--> 487\u001b[0m     \u001b[38;5;28;01mreturn\u001b[39;00m \u001b[38;5;28;43mcls\u001b[39;49m\u001b[38;5;241;43m.\u001b[39;49m\u001b[43m_readfrom\u001b[49m\u001b[43m(\u001b[49m\n\u001b[1;32m    488\u001b[0m \u001b[43m        \u001b[49m\u001b[43mfileobj\u001b[49m\u001b[38;5;241;43m=\u001b[39;49m\u001b[43mfileobj\u001b[49m\u001b[43m,\u001b[49m\n\u001b[1;32m    489\u001b[0m \u001b[43m        \u001b[49m\u001b[43mmode\u001b[49m\u001b[38;5;241;43m=\u001b[39;49m\u001b[43mmode\u001b[49m\u001b[43m,\u001b[49m\n\u001b[1;32m    490\u001b[0m \u001b[43m        \u001b[49m\u001b[43mmemmap\u001b[49m\u001b[38;5;241;43m=\u001b[39;49m\u001b[43mmemmap\u001b[49m\u001b[43m,\u001b[49m\n\u001b[1;32m    491\u001b[0m \u001b[43m        \u001b[49m\u001b[43msave_backup\u001b[49m\u001b[38;5;241;43m=\u001b[39;49m\u001b[43msave_backup\u001b[49m\u001b[43m,\u001b[49m\n\u001b[1;32m    492\u001b[0m \u001b[43m        \u001b[49m\u001b[43mcache\u001b[49m\u001b[38;5;241;43m=\u001b[39;49m\u001b[43mcache\u001b[49m\u001b[43m,\u001b[49m\n\u001b[1;32m    493\u001b[0m \u001b[43m        \u001b[49m\u001b[43mignore_missing_simple\u001b[49m\u001b[38;5;241;43m=\u001b[39;49m\u001b[43mignore_missing_simple\u001b[49m\u001b[43m,\u001b[49m\n\u001b[1;32m    494\u001b[0m \u001b[43m        \u001b[49m\u001b[43mlazy_load_hdus\u001b[49m\u001b[38;5;241;43m=\u001b[39;49m\u001b[43mlazy_load_hdus\u001b[49m\u001b[43m,\u001b[49m\n\u001b[1;32m    495\u001b[0m \u001b[43m        \u001b[49m\u001b[38;5;241;43m*\u001b[39;49m\u001b[38;5;241;43m*\u001b[39;49m\u001b[43mkwargs\u001b[49m\u001b[43m,\u001b[49m\n\u001b[1;32m    496\u001b[0m \u001b[43m    \u001b[49m\u001b[43m)\u001b[49m\n",
      "File \u001b[0;32m~/anaconda3/lib/python3.10/site-packages/astropy/io/fits/hdu/hdulist.py:1169\u001b[0m, in \u001b[0;36mHDUList._readfrom\u001b[0;34m(cls, fileobj, data, mode, memmap, cache, lazy_load_hdus, ignore_missing_simple, use_fsspec, fsspec_kwargs, decompress_in_memory, **kwargs)\u001b[0m\n\u001b[1;32m   1166\u001b[0m \u001b[38;5;28;01mif\u001b[39;00m fileobj \u001b[38;5;129;01mis\u001b[39;00m \u001b[38;5;129;01mnot\u001b[39;00m \u001b[38;5;28;01mNone\u001b[39;00m:\n\u001b[1;32m   1167\u001b[0m     \u001b[38;5;28;01mif\u001b[39;00m \u001b[38;5;129;01mnot\u001b[39;00m \u001b[38;5;28misinstance\u001b[39m(fileobj, _File):\n\u001b[1;32m   1168\u001b[0m         \u001b[38;5;66;03m# instantiate a FITS file object (ffo)\u001b[39;00m\n\u001b[0;32m-> 1169\u001b[0m         fileobj \u001b[38;5;241m=\u001b[39m \u001b[43m_File\u001b[49m\u001b[43m(\u001b[49m\n\u001b[1;32m   1170\u001b[0m \u001b[43m            \u001b[49m\u001b[43mfileobj\u001b[49m\u001b[43m,\u001b[49m\n\u001b[1;32m   1171\u001b[0m \u001b[43m            \u001b[49m\u001b[43mmode\u001b[49m\u001b[38;5;241;43m=\u001b[39;49m\u001b[43mmode\u001b[49m\u001b[43m,\u001b[49m\n\u001b[1;32m   1172\u001b[0m \u001b[43m            \u001b[49m\u001b[43mmemmap\u001b[49m\u001b[38;5;241;43m=\u001b[39;49m\u001b[43mmemmap\u001b[49m\u001b[43m,\u001b[49m\n\u001b[1;32m   1173\u001b[0m \u001b[43m            \u001b[49m\u001b[43mcache\u001b[49m\u001b[38;5;241;43m=\u001b[39;49m\u001b[43mcache\u001b[49m\u001b[43m,\u001b[49m\n\u001b[1;32m   1174\u001b[0m \u001b[43m            \u001b[49m\u001b[43muse_fsspec\u001b[49m\u001b[38;5;241;43m=\u001b[39;49m\u001b[43muse_fsspec\u001b[49m\u001b[43m,\u001b[49m\n\u001b[1;32m   1175\u001b[0m \u001b[43m            \u001b[49m\u001b[43mfsspec_kwargs\u001b[49m\u001b[38;5;241;43m=\u001b[39;49m\u001b[43mfsspec_kwargs\u001b[49m\u001b[43m,\u001b[49m\n\u001b[1;32m   1176\u001b[0m \u001b[43m            \u001b[49m\u001b[43mdecompress_in_memory\u001b[49m\u001b[38;5;241;43m=\u001b[39;49m\u001b[43mdecompress_in_memory\u001b[49m\u001b[43m,\u001b[49m\n\u001b[1;32m   1177\u001b[0m \u001b[43m        \u001b[49m\u001b[43m)\u001b[49m\n\u001b[1;32m   1178\u001b[0m     \u001b[38;5;66;03m# The Astropy mode is determined by the _File initializer if the\u001b[39;00m\n\u001b[1;32m   1179\u001b[0m     \u001b[38;5;66;03m# supplied mode was None\u001b[39;00m\n\u001b[1;32m   1180\u001b[0m     mode \u001b[38;5;241m=\u001b[39m fileobj\u001b[38;5;241m.\u001b[39mmode\n",
      "File \u001b[0;32m~/anaconda3/lib/python3.10/site-packages/astropy/io/fits/file.py:218\u001b[0m, in \u001b[0;36m_File.__init__\u001b[0;34m(self, fileobj, mode, memmap, overwrite, cache, use_fsspec, fsspec_kwargs, decompress_in_memory)\u001b[0m\n\u001b[1;32m    216\u001b[0m     \u001b[38;5;28mself\u001b[39m\u001b[38;5;241m.\u001b[39m_open_fileobj(fileobj, mode, overwrite)\n\u001b[1;32m    217\u001b[0m \u001b[38;5;28;01melif\u001b[39;00m \u001b[38;5;28misinstance\u001b[39m(fileobj, (\u001b[38;5;28mstr\u001b[39m, \u001b[38;5;28mbytes\u001b[39m)):\n\u001b[0;32m--> 218\u001b[0m     \u001b[38;5;28;43mself\u001b[39;49m\u001b[38;5;241;43m.\u001b[39;49m\u001b[43m_open_filename\u001b[49m\u001b[43m(\u001b[49m\u001b[43mfileobj\u001b[49m\u001b[43m,\u001b[49m\u001b[43m \u001b[49m\u001b[43mmode\u001b[49m\u001b[43m,\u001b[49m\u001b[43m \u001b[49m\u001b[43moverwrite\u001b[49m\u001b[43m)\u001b[49m\n\u001b[1;32m    219\u001b[0m \u001b[38;5;28;01melse\u001b[39;00m:\n\u001b[1;32m    220\u001b[0m     \u001b[38;5;28mself\u001b[39m\u001b[38;5;241m.\u001b[39m_open_filelike(fileobj, mode, overwrite)\n",
      "File \u001b[0;32m~/anaconda3/lib/python3.10/site-packages/astropy/io/fits/file.py:651\u001b[0m, in \u001b[0;36m_File._open_filename\u001b[0;34m(self, filename, mode, overwrite)\u001b[0m\n\u001b[1;32m    648\u001b[0m ext \u001b[38;5;241m=\u001b[39m os\u001b[38;5;241m.\u001b[39mpath\u001b[38;5;241m.\u001b[39msplitext(\u001b[38;5;28mself\u001b[39m\u001b[38;5;241m.\u001b[39mname)[\u001b[38;5;241m1\u001b[39m]\n\u001b[1;32m    650\u001b[0m \u001b[38;5;28;01mif\u001b[39;00m \u001b[38;5;129;01mnot\u001b[39;00m \u001b[38;5;28mself\u001b[39m\u001b[38;5;241m.\u001b[39m_try_read_compressed(\u001b[38;5;28mself\u001b[39m\u001b[38;5;241m.\u001b[39mname, magic, mode, ext\u001b[38;5;241m=\u001b[39mext):\n\u001b[0;32m--> 651\u001b[0m     \u001b[38;5;28mself\u001b[39m\u001b[38;5;241m.\u001b[39m_file \u001b[38;5;241m=\u001b[39m \u001b[38;5;28;43mopen\u001b[39;49m\u001b[43m(\u001b[49m\u001b[38;5;28;43mself\u001b[39;49m\u001b[38;5;241;43m.\u001b[39;49m\u001b[43mname\u001b[49m\u001b[43m,\u001b[49m\u001b[43m \u001b[49m\u001b[43mIO_FITS_MODES\u001b[49m\u001b[43m[\u001b[49m\u001b[43mmode\u001b[49m\u001b[43m]\u001b[49m\u001b[43m)\u001b[49m\n\u001b[1;32m    652\u001b[0m     \u001b[38;5;28mself\u001b[39m\u001b[38;5;241m.\u001b[39mclose_on_error \u001b[38;5;241m=\u001b[39m \u001b[38;5;28;01mTrue\u001b[39;00m\n\u001b[1;32m    654\u001b[0m \u001b[38;5;66;03m# Make certain we're back at the beginning of the file\u001b[39;00m\n\u001b[1;32m    655\u001b[0m \u001b[38;5;66;03m# BZ2File does not support seek when the file is open for writing, but\u001b[39;00m\n\u001b[1;32m    656\u001b[0m \u001b[38;5;66;03m# when opening a file for write, bz2.BZ2File always truncates anyway.\u001b[39;00m\n",
      "\u001b[0;31mFileNotFoundError\u001b[0m: [Errno 2] No such file or directory: 'bias_001.FIT'"
     ]
    }
   ],
   "source": [
    "bias_fn = 'bias_001.FIT'\n",
    "data = fits.getdata(bias_fn)"
   ]
  },
  {
   "cell_type": "code",
   "execution_count": null,
   "id": "1a05691e",
   "metadata": {},
   "outputs": [],
   "source": [
    "plt.imshow(data)\n",
    "plt.colorbar()\n",
    "_=plt.xlabel(\"Pixel X Coordinate\")\n",
    "_=plt.ylabel(\"Pixel Y Coordinate\")"
   ]
  },
  {
   "cell_type": "code",
   "execution_count": null,
   "id": "50602f01",
   "metadata": {},
   "outputs": [],
   "source": [
    "plt.figure(figsize=(14,10))\n",
    "plt.imshow(data)\n",
    "plt.colorbar()\n",
    "_=plt.xlabel(\"Pixel X Coordinate\")\n",
    "_=plt.ylabel(\"Pixel Y Coordinate\")"
   ]
  },
  {
   "cell_type": "code",
   "execution_count": null,
   "id": "c535b004",
   "metadata": {},
   "outputs": [],
   "source": [
    "from astropy import visualization\n",
    "from astropy.visualization import simple_norm"
   ]
  },
  {
   "cell_type": "code",
   "execution_count": null,
   "id": "026c80c0",
   "metadata": {
    "scrolled": false
   },
   "outputs": [],
   "source": [
    "plt.figure(figsize=(14,10))\n",
    "plt.imshow(data, norm=simple_norm(data, stretch='asinh'), cmap=plt.get_cmap(\"viridis\"))\n",
    "\n",
    "plt.colorbar()\n",
    "plt.xlabel(\"Pixel X Coordinate\")\n",
    "plt.ylabel(\"Pixel Y Coordinate\")\n",
    "\n",
    "plt.show()"
   ]
  },
  {
   "cell_type": "code",
   "execution_count": null,
   "id": "5584f84f",
   "metadata": {},
   "outputs": [],
   "source": [
    "print(\"Brightest value:\", data.max())\n",
    "print(\"Location of brightest value:\", data.argmax())"
   ]
  },
  {
   "cell_type": "code",
   "execution_count": null,
   "id": "ac967491",
   "metadata": {},
   "outputs": [],
   "source": [
    "data.shape"
   ]
  },
  {
   "cell_type": "code",
   "execution_count": null,
   "id": "5febb7dd",
   "metadata": {},
   "outputs": [],
   "source": [
    "import numpy as np\n",
    "\n",
    "print(\"y, x coordinates of the brightest pixel:\", np.unravel_index(data.argmax(), data.shape))\n",
    "\n",
    "#Unravel_index converts the value of brightest pixel into coordinates in an array \n",
    "#and identifies a more specific location"
   ]
  },
  {
   "cell_type": "code",
   "execution_count": null,
   "id": "be405278",
   "metadata": {},
   "outputs": [],
   "source": [
    "plt.figure(figsize=(14,10))\n",
    "# we pick a \"slice\" from (y-8) to (y+8) and from (x-8) to (x+8)\n",
    "plt.imshow(data[300:316, 620:636], cmap='inferno')\n",
    "plt.colorbar()\n",
    "_=plt.xlabel(\"Pixel X Coordinate (+620)\")\n",
    "_=plt.ylabel(\"Pixel Y Coordinate (+300)\")"
   ]
  },
  {
   "cell_type": "code",
   "execution_count": null,
   "id": "98dbc048",
   "metadata": {},
   "outputs": [],
   "source": [
    "# the \"ravel\" method turns the 2D data image into a 1D list of values.\n",
    "# we use it here because of the syntax requirements of the `hist` function\n",
    "histresult = plt.hist(data.ravel(), bins=50)\n",
    "_=plt.xlabel(\"Pixel Value\")\n",
    "_=plt.ylabel(\"Number of Pixels\")"
   ]
  },
  {
   "cell_type": "code",
   "execution_count": null,
   "id": "daef5968",
   "metadata": {},
   "outputs": [],
   "source": [
    "# first, we create a mask that excludes the bad data\n",
    "# this is a \"boolean array\" of True and False values\n",
    "# it will be True everywhere except on the one hot pixel, where it will be False\n",
    "mask = data < 1800\n",
    "# then, we re-histogram selecting the \"good\" data\n",
    "histresult = plt.hist(data[mask].ravel(), bins=50)\n",
    "_=plt.xlabel(\"Pixel Value\")\n",
    "_=plt.ylabel(\"Number of Pixels\")"
   ]
  },
  {
   "cell_type": "code",
   "execution_count": null,
   "id": "f25c1ada",
   "metadata": {},
   "outputs": [],
   "source": [
    "plt.figure(figsize=(14,14))\n",
    "plt.imshow(mask)"
   ]
  },
  {
   "cell_type": "code",
   "execution_count": null,
   "id": "d4bcf59e",
   "metadata": {},
   "outputs": [],
   "source": [
    "data[~mask]"
   ]
  },
  {
   "cell_type": "code",
   "execution_count": null,
   "id": "ead7ab54",
   "metadata": {},
   "outputs": [],
   "source": [
    "# this part repeats the histogram-making above\n",
    "mask = data < 1800\n",
    "histresult = plt.hist(data[mask].ravel(), bins=50)\n",
    "# 'linspace' makes an array of (175) evenly-spaced points from the lower (1000) to upper\n",
    "x = np.linspace(1000, 1175, 175)\n",
    "sigma = 15 # I guessed this value by eye\n",
    "x0 = 1075 # I guessed this too\n",
    "# compute the Gaussian function:\n",
    "y = 1/(sigma*(2*np.pi)**0.5) * np.exp(-(x-x0)**2/(2*sigma**2))\n",
    "scale = 900000 # we need to multiply by a scale factor to see the curve; this number is a\n",
    "plt.plot(x, y*scale)\n",
    "_=plt.xlabel(\"Pixel Value\")\n",
    "_=plt.ylabel(\"Number of Pixels\")"
   ]
  },
  {
   "cell_type": "code",
   "execution_count": null,
   "id": "f5db2d2a",
   "metadata": {},
   "outputs": [],
   "source": [
    "print(\"Estimated read noise + pixel-to-pixel variation (without accounting for gradient):\", data[mask].std(ddof=1))"
   ]
  },
  {
   "cell_type": "code",
   "execution_count": null,
   "id": "4142f0d5",
   "metadata": {},
   "outputs": [],
   "source": [
    "# the \"glob\" module lets us store the results of wildcard searches into python variables\n",
    "import glob\n",
    "bias_file_list = glob.glob(\"bias*FIT\")\n",
    "print(\"There are\",len(bias_file_list),\"bias images\")\n",
    "print(bias_file_list)"
   ]
  },
  {
   "cell_type": "code",
   "execution_count": null,
   "id": "88221d8d",
   "metadata": {},
   "outputs": [],
   "source": [
    "for filename in bias_file_list:\n",
    "    header = fits.getheader(filename)\n",
    "    print(filename, header['EXPTIME'], header['CCD-TEMP'])"
   ]
  },
  {
   "cell_type": "code",
   "execution_count": null,
   "id": "d27335e9",
   "metadata": {},
   "outputs": [],
   "source": [
    "for filename in bias_file_list:\n",
    "    header = fits.getheader(filename)\n",
    "    print(header)"
   ]
  },
  {
   "cell_type": "code",
   "execution_count": null,
   "id": "8eb7eb03",
   "metadata": {},
   "outputs": [],
   "source": [
    "for filename in bias_file_list:\n",
    "    header = fits.getheader(filename)\n",
    "    print(header['FILTER'])"
   ]
  },
  {
   "cell_type": "code",
   "execution_count": null,
   "id": "aa1282b5",
   "metadata": {},
   "outputs": [],
   "source": [
    "# the `fits.getdata` function loads data from a fits file\n",
    "# np.array() converts an input to an array\n",
    "# the \"inline for loop\" is the really important part here, though:\n",
    "# we are loading one image for each file name in the bias_file_list we made above\n",
    "bias_timeseries = np.array([fits.getdata(fn) for fn in bias_file_list])\n",
    "print(bias_timeseries.shape)"
   ]
  },
  {
   "cell_type": "code",
   "execution_count": null,
   "id": "a1ec7a07",
   "metadata": {},
   "outputs": [],
   "source": [
    "_=plt.plot(bias_timeseries[:,100,150], marker='o')\n",
    "_=plt.xlabel(\"Frame Number\")\n",
    "_=plt.ylabel(\"Pixel Value\")\n",
    "\n",
    "print(\"Mean =\",bias_timeseries[:,100,150].mean(), \" Standard deviation =\",bias_timeseries[:,100,150].std(ddof=1))"
   ]
  },
  {
   "cell_type": "code",
   "execution_count": null,
   "id": "8890c3af",
   "metadata": {},
   "outputs": [],
   "source": [
    "bias_mean_image = bias_timeseries.mean(axis=0)\n",
    "bias_std_image = bias_timeseries.std(axis=0, ddof=1)"
   ]
  },
  {
   "cell_type": "code",
   "execution_count": null,
   "id": "60fa4015",
   "metadata": {},
   "outputs": [],
   "source": [
    "plt.figure(figsize=(14,10))\n",
    "plt.imshow(bias_mean_image, norm=visualization.simple_norm(bias_mean_image, stretch='asinh'))\n",
    "plt.colorbar()\n",
    "_=plt.title(\"Mean of Bias Images\")\n",
    "_=plt.xlabel(\"Pixel X Coordinate\")\n",
    "_=plt.ylabel(\"Pixel Y Coordinate\")"
   ]
  },
  {
   "cell_type": "code",
   "execution_count": null,
   "id": "add29549",
   "metadata": {},
   "outputs": [],
   "source": [
    "plt.figure(figsize=(14,10))\n",
    "plt.imshow(bias_std_image, norm=visualization.simple_norm(bias_std_image, stretch='asinh'))\n",
    "plt.colorbar()\n",
    "_=plt.title(\"Standard Deviation of Bias Images\")\n",
    "_=plt.xlabel(\"Pixel X Coordinate\")\n",
    "_=plt.ylabel(\"Pixel Y Coordinate\")"
   ]
  },
  {
   "cell_type": "code",
   "execution_count": null,
   "id": "2db9abff",
   "metadata": {},
   "outputs": [],
   "source": [
    "print(\"Estimate of read noise at 150,100:\",bias_std_image[100,150],\"and at y,x=(308, 628)\", bias_std_image[308,628])"
   ]
  },
  {
   "cell_type": "code",
   "execution_count": null,
   "id": "19dd8f78",
   "metadata": {},
   "outputs": [],
   "source": [
    "mean_readnoise = bias_std_image.mean()\n",
    "print(\"The mean readnoise over all pixels =\",mean_readnoise)"
   ]
  },
  {
   "cell_type": "code",
   "execution_count": null,
   "id": "c3e8ba74",
   "metadata": {},
   "outputs": [],
   "source": [
    "mean_bias = bias_mean_image.mean()\n",
    "print(\"mean bias =\",mean_bias)"
   ]
  },
  {
   "cell_type": "code",
   "execution_count": null,
   "id": "69bf57ab",
   "metadata": {},
   "outputs": [],
   "source": [
    "median_bias = np.median(bias_mean_image)\n",
    "print(\"Median bias level across the image =\",median_bias)\n",
    "median_readnoise = np.median(bias_std_image)\n",
    "print(\"Median standard deviation level across the image =\",median_readnoise)"
   ]
  },
  {
   "cell_type": "code",
   "execution_count": null,
   "id": "1d313c54",
   "metadata": {},
   "outputs": [],
   "source": [
    "histresult = plt.hist(bias_std_image.ravel(), bins=50, log=True)\n",
    "# plot a vertical line at the median, then at the mean\n",
    "plt.vlines(median_readnoise, 1, 1e5, linestyle='--')\n",
    "plt.vlines(mean_readnoise, 1, 1e5, linestyle=':')\n",
    "plt.title(\"Read noise estimates (per-pixel bias standard deviation)\")\n",
    "_=plt.xlabel(\"Pixel Value\")\n",
    "_=plt.ylabel(\"Number of Pixels\")"
   ]
  },
  {
   "cell_type": "code",
   "execution_count": null,
   "id": "2f9dae6b",
   "metadata": {},
   "outputs": [],
   "source": [
    " #we will re-make the mask we used to exclude outliers\n",
    "mask = bias_mean_image < 1800\n",
    "histresult = plt.hist(bias_mean_image[mask], bins=50, log=True)\n",
    "# plot a vertical line at the median, then at the mean\n",
    "plt.vlines(median_bias, 1, 1e5, linestyle='--')\n",
    "plt.vlines(mean_bias, 1, 1e5, linestyle=':')\n",
    "plt.title(\"Mean bias values\")\n",
    "_=plt.xlabel(\"Pixel Value\")\n",
    "_=plt.ylabel(\"Number of Pixels\")"
   ]
  },
  {
   "cell_type": "code",
   "execution_count": null,
   "id": "77a3d74a",
   "metadata": {},
   "outputs": [],
   "source": []
  },
  {
   "cell_type": "code",
   "execution_count": null,
   "id": "c4bc141f",
   "metadata": {},
   "outputs": [],
   "source": [
    "dark_fn = 'dark_10s_001.FIT'\n",
    "dark_data = fits.getdata(dark_fn)"
   ]
  },
  {
   "cell_type": "code",
   "execution_count": null,
   "id": "ce89496a",
   "metadata": {},
   "outputs": [],
   "source": [
    "plt.figure(figsize=(14,10))\n",
    "plt.imshow(dark_data, norm=visualization.simple_norm(dark_data, stretch='asinh'))\n",
    "plt.colorbar()\n",
    "_=plt.xlabel(\"Pixel X Coordinate\")\n",
    "_=plt.ylabel(\"Pixel Y Coordinate\")"
   ]
  },
  {
   "cell_type": "code",
   "execution_count": null,
   "id": "7721618d",
   "metadata": {},
   "outputs": [],
   "source": [
    "print(\"Brightest value:\", dark_data.max())\n",
    "print(\"Location of brightest value:\", dark_data.argmax())\n",
    "dark_data.shape"
   ]
  },
  {
   "cell_type": "markdown",
   "id": "e314574b",
   "metadata": {},
   "source": [
    "The brightest pixel is the 20824th pixel located at (308,628)."
   ]
  },
  {
   "cell_type": "code",
   "execution_count": null,
   "id": "a5debaee",
   "metadata": {},
   "outputs": [],
   "source": [
    "print(\"y,x coordinates of the brightest pixel:\", np.unravel_index(dark_data.argmax(), dark_data.shape))"
   ]
  },
  {
   "cell_type": "code",
   "execution_count": null,
   "id": "dc7ba25f",
   "metadata": {},
   "outputs": [],
   "source": [
    "plt.figure(figsize=(14,10))\n",
    "# we pick a \"slice\" from (y-8) to (y+8) and from (x-8) to (x+8)\n",
    "plt.imshow(dark_data[300:316, 620:636], cmap='inferno')\n",
    "plt.colorbar()\n",
    "_=plt.xlabel(\"Pixel X Coordinate (+620)\")\n",
    "_=plt.ylabel(\"Pixel Y Coordinate (+300)\")"
   ]
  },
  {
   "cell_type": "code",
   "execution_count": null,
   "id": "f4dec832",
   "metadata": {},
   "outputs": [],
   "source": [
    "dark_file_list = glob.glob(\"dark*FIT\")\n",
    "\n",
    "for filename in dark_file_list:\n",
    "    header = fits.getheader(filename)\n",
    "    exp= header['EXPTIME']\n",
    "\n",
    "print(\"The exposure time of\", filename, \"is:\", exp)"
   ]
  },
  {
   "cell_type": "code",
   "execution_count": null,
   "id": "ab794e4b",
   "metadata": {},
   "outputs": [],
   "source": [
    "mean_dark = np.mean(dark_data)\n",
    "print(\"Mean value =\",mean_dark)\n",
    "median_dark = np.median(dark_data)\n",
    "print(\"Median value =\",median_dark)"
   ]
  },
  {
   "cell_type": "code",
   "execution_count": null,
   "id": "f333d681",
   "metadata": {},
   "outputs": [],
   "source": [
    "dark_current_rate = mean_dark / median_dark\n",
    "print (dark_current_rate)"
   ]
  },
  {
   "cell_type": "code",
   "execution_count": null,
   "id": "7beec674",
   "metadata": {},
   "outputs": [],
   "source": [
    "bias_subtracted_dark = dark_data - bias_mean_image\n",
    "mean_dark_current = np.mean(bias_subtracted_dark)\n",
    "dark_current_rate = mean_dark_current / exp\n",
    "\n",
    "print(\"Dark current counts =\", mean_dark_current)\n",
    "print(\"Dark rate (dark current / exposure time) =\", dark_current_rate, \"counts per second\")"
   ]
  },
  {
   "cell_type": "code",
   "execution_count": null,
   "id": "d3dd1da2",
   "metadata": {},
   "outputs": [],
   "source": [
    "plt.figure(figsize=(14,10))\n",
    "plt.imshow(bias_subtracted_dark, norm=visualization.simple_norm(bias_subtracted_dark, stretch='asinh'))\n",
    "plt.colorbar()\n",
    "_=plt.xlabel(\"Pixel X Coordinate\")\n",
    "_=plt.ylabel(\"Pixel Y Coordinate\")"
   ]
  },
  {
   "cell_type": "code",
   "execution_count": null,
   "id": "b8919a69",
   "metadata": {},
   "outputs": [],
   "source": [
    "histresult = plt.hist(bias_subtracted_dark.ravel(), bins=50, log=True)\n",
    "_=plt.xlabel(\"Pixel Value\")\n",
    "_=plt.ylabel(\"Number of Pixels\")"
   ]
  },
  {
   "cell_type": "code",
   "execution_count": null,
   "id": "1df2674e",
   "metadata": {},
   "outputs": [],
   "source": [
    "mask = bias_subtracted_dark < 8000\n",
    "histresult = plt.hist(bias_subtracted_dark[mask].ravel(), bins=50, log=True)\n",
    "_=plt.xlabel(\"Pixel Value\")\n",
    "_=plt.ylabel(\"Number of Pixels\")"
   ]
  },
  {
   "cell_type": "code",
   "execution_count": null,
   "id": "d733e801",
   "metadata": {},
   "outputs": [],
   "source": [
    "mask = bias_subtracted_dark < 200\n",
    "histresult = plt.hist(bias_subtracted_dark[mask].ravel(), bins=50, log=True)\n",
    "_=plt.xlabel(\"Pixel Value\")\n",
    "_=plt.ylabel(\"Number of Pixels\")"
   ]
  },
  {
   "cell_type": "code",
   "execution_count": null,
   "id": "e0eae286",
   "metadata": {},
   "outputs": [],
   "source": [
    "mask = bias_subtracted_dark < 200\n",
    "histresult = plt.hist(bias_subtracted_dark[mask].ravel(), bins=50)\n",
    "_=plt.xlabel(\"Pixel Value\")\n",
    "_=plt.ylabel(\"Number of Pixels\")"
   ]
  },
  {
   "cell_type": "code",
   "execution_count": null,
   "id": "26b38d4f",
   "metadata": {},
   "outputs": [],
   "source": [
    "plt.figure(figsize=(14,10))\n",
    "plt.imshow(bias_subtracted_dark, vmin=-30, vmax=50)\n",
    "plt.colorbar()\n",
    "_=plt.xlabel(\"Pixel X Coordinate\")\n",
    "_=plt.ylabel(\"Pixel Y Coordinate\")\n",
    "\n",
    "#vmin and vmax for one affect the color of the figure. If I increase vmax it becomes\n",
    "#very purple and if I decrease vmin it looks more blue. It creates bounds for the color scale."
   ]
  },
  {
   "cell_type": "code",
   "execution_count": null,
   "id": "df82fba0",
   "metadata": {},
   "outputs": [],
   "source": [
    "mean_dark_bias = np.mean(bias_subtracted_dark)\n",
    "print(\"Mean value =\",mean_dark_bias)\n",
    "median_dark_bias = np.median(bias_subtracted_dark)\n",
    "print(\"Median value =\",median_dark_bias)"
   ]
  },
  {
   "cell_type": "code",
   "execution_count": null,
   "id": "c3bd3bb7",
   "metadata": {},
   "outputs": [],
   "source": [
    "dark_current_rate = mean_dark_bias / exp\n",
    "print(\"Rate estimate =\", dark_current_rate)"
   ]
  },
  {
   "cell_type": "code",
   "execution_count": null,
   "id": "9a7eaeec",
   "metadata": {},
   "outputs": [],
   "source": [
    "dark_file_list = glob.glob(\"dark_10s*FIT\")\n",
    "print(\"There are\",len(dark_file_list),\"dark images\")\n",
    "print(dark_file_list)"
   ]
  },
  {
   "cell_type": "code",
   "execution_count": null,
   "id": "451b3729",
   "metadata": {},
   "outputs": [],
   "source": [
    "for filename in dark_file_list:\n",
    "    header = fits.getheader(filename)\n",
    "    print(filename, header['EXPTIME'], header['CCD-TEMP'])"
   ]
  },
  {
   "cell_type": "code",
   "execution_count": null,
   "id": "60ec018c",
   "metadata": {},
   "outputs": [],
   "source": [
    "dark_timeseries = np.array([fits.getdata(fn) for fn in dark_file_list])\n",
    "dark_timeseries.shape"
   ]
  },
  {
   "cell_type": "code",
   "execution_count": null,
   "id": "f2290035",
   "metadata": {},
   "outputs": [],
   "source": [
    "plt.plot(dark_timeseries[:,100,150], 'o')\n",
    "_=plt.xlabel(\"Frame ID Number\")\n",
    "_=plt.ylabel(\"Pixel Value\")"
   ]
  },
  {
   "cell_type": "code",
   "execution_count": null,
   "id": "7ef73a32",
   "metadata": {},
   "outputs": [],
   "source": [
    "dark_std = dark_timeseries.std(axis=0, ddof=1)\n",
    "dark_mean = dark_timeseries.mean(axis=0)\n",
    "\n",
    "plt.figure(figsize=(14,10))\n",
    "plt.imshow(dark_std, norm=visualization.simple_norm(dark_std, stretch='asinh'))\n",
    "plt.colorbar()\n",
    "_=plt.xlabel(\"Pixel X Coordinate\")\n",
    "_=plt.ylabel(\"Pixel Y Coordinate\")"
   ]
  },
  {
   "cell_type": "code",
   "execution_count": null,
   "id": "66756b8d",
   "metadata": {},
   "outputs": [],
   "source": [
    "plt.figure(figsize=(14,10))\n",
    "plt.imshow(dark_std, norm=visualization.simple_norm(dark_std, stretch='asinh', max_percent=99.95))\n",
    "plt.colorbar()\n",
    "_=plt.xlabel(\"Pixel X Coordinate\")\n",
    "_=plt.ylabel(\"Pixel Y Coordinate\")"
   ]
  },
  {
   "cell_type": "code",
   "execution_count": null,
   "id": "80ddf6c9",
   "metadata": {},
   "outputs": [],
   "source": [
    "\n",
    "mean_dark_noise = np.mean(dark_std)  \n",
    "median_dark_noise = np.median(dark_std)\n",
    "\n",
    "\n",
    "print(\"Mean dark noise:\",mean_dark_noise)\n",
    "print(\"Median dark noise:\",median_dark_noise)"
   ]
  },
  {
   "cell_type": "code",
   "execution_count": null,
   "id": "d911c2fa",
   "metadata": {},
   "outputs": [],
   "source": [
    "# comparison of the dark noise (note that this time we hand-specified the bin locations)\n",
    "_ = plt.hist(dark_std.ravel(), bins=np.linspace(0,20), label='Dark')\n",
    "_ = plt.hist(bias_std_image.ravel(), bins=np.linspace(0,20), label='Bias', alpha=0.5)\n",
    "leg = plt.legend(loc='best')\n",
    "_=plt.xlabel(\"Pixel Value\")\n",
    "_=plt.ylabel(\"Number of Pixels\")\n",
    "\n",
    "print(\"Mean read noise:\",mean_readnoise)\n",
    "print(\"Median read noise:\",median_readnoise)"
   ]
  },
  {
   "cell_type": "code",
   "execution_count": null,
   "id": "da9031b8",
   "metadata": {},
   "outputs": [],
   "source": [
    "mean_dark_current = np.mean(dark_mean) - np.mean(bias_mean_image)\n",
    "mean_dark_current"
   ]
  },
  {
   "cell_type": "code",
   "execution_count": null,
   "id": "b03c5950",
   "metadata": {},
   "outputs": [],
   "source": [
    "dark_rate_estimate = mean_dark_current / exp\n",
    "dark_rate_estimate"
   ]
  },
  {
   "cell_type": "code",
   "execution_count": null,
   "id": "cf1d85cb",
   "metadata": {},
   "outputs": [],
   "source": [
    "n_dark_counts = np.mean(bias_subtracted_dark)\n",
    "n_dark_counts"
   ]
  },
  {
   "cell_type": "markdown",
   "id": "567ea859",
   "metadata": {},
   "source": [
    "No the short bias exposure is not a good estimate because 15 is really close to the dark current amount. It is clear that the bias is  affected by the dark current."
   ]
  },
  {
   "cell_type": "code",
   "execution_count": null,
   "id": "de5c9b78",
   "metadata": {},
   "outputs": [],
   "source": [
    "bias= [\n",
    "'Bias_capella_0sec_Bin1_filter-Clear_-4.9C_gain0_2025-01-28_160850_frame0001.fit',\n",
    "'Bias_capella_0sec_Bin1_filter-Clear_-4.9C_gain0_2025-01-28_160853_frame0004.fit',\n",
    "'Bias_capella_0sec_Bin1_filter-Clear_-4.9C_gain0_2025-01-28_160850_frame0002.fit',\n",
    "'Bias_capella_0sec_Bin1_filter-Clear_-4.9C_gain0_2025-01-28_160900_frame0010.fit',\n",
    "'Bias_capella_0sec_Bin1_filter-Clear_-4.9C_gain0_2025-01-28_160854_frame0005.fit',\n",
    "'Bias_capella_0sec_Bin1_filter-Clear_-4.9C_gain0_2025-01-28_160859_frame0009.fit',\n",
    "'Bias_capella_0sec_Bin1_filter-Clear_-4.9C_gain0_2025-01-28_160855_frame0006.fit',\n",
    "'Bias_capella_0sec_Bin1_filter-Clear_-4.9C_gain0_2025-01-28_160852_frame0003.fit',\n",
    "'Bias_capella_0sec_Bin1_filter-Clear_-4.9C_gain0_2025-01-28_160857_frame0008.fit',\n",
    "'Bias_capella_0sec_Bin1_filter-Clear_-4.9C_gain0_2025-01-28_160856_frame0007.fit'\n",
    "]\n",
    "\n",
    "bias_data = [fits.getdata(i) for i in bias]\n",
    "\n",
    "bias_stack = np.array(bias_data)\n",
    "\n",
    "bias_mean = bias_stack.mean(axis=0)\n",
    "\n",
    "bias_std= bias_stack.std(axis=0, ddof=1)"
   ]
  },
  {
   "cell_type": "code",
   "execution_count": null,
   "id": "cfce0f93",
   "metadata": {},
   "outputs": [],
   "source": [
    "dark= [\n",
    " 'Dark_capella_125sec_Bin1_filter-Clear_-4.9C_gain0_2025-01-28_161913_frame0003.fit',\n",
    " 'Dark_capella_1sec_Bin1_filter-Clear_-4.9C_gain0_2025-01-28_162101_frame0001.fit',\n",
    " 'Dark_capella_5sec_Bin1_filter-Clear_-4.9C_gain0_2025-01-28_162056_frame0003.fit',\n",
    " 'Dark_capella_1sec_Bin1_filter-Clear_-4.9C_gain0_2025-01-28_162106_frame0003.fit',\n",
    " 'Dark_capella_25sec_Bin1_filter-Clear_-4.9C_gain0_2025-01-28_162008_frame0002.fit',\n",
    " 'Dark_capella_0.2sec_Bin1_filter-Clear_-4.9C_gain0_2025-01-28_162110_frame0001.fit',\n",
    " 'Dark_capella_1sec_Bin1_filter-Clear_-4.9C_gain0_2025-01-28_162103_frame0002.fit',\n",
    " 'Dark_capella_5sec_Bin1_filter-Clear_-4.9C_gain0_2025-01-28_162050_frame0002.fit',\n",
    " 'Dark_capella_0.2sec_Bin1_filter-Clear_-4.9C_gain0_2025-01-28_162111_frame0002.fit',\n",
    " 'Dark_capella_25sec_Bin1_filter-Clear_-4.9C_gain0_2025-01-28_162034_frame0003.fit',\n",
    " 'Dark_capella_5sec_Bin1_filter-Clear_-4.9C_gain0_2025-01-28_162044_frame0001.fit',\n",
    " 'Dark_capella_125sec_Bin1_filter-Clear_-5.3C_gain0_2025-01-28_161501_frame0001.fit',\n",
    " 'Dark_capella_125sec_Bin1_filter-Clear_-5.3C_gain0_2025-01-28_161707_frame0002.fit',\n",
    " 'Dark_capella_0.2sec_Bin1_filter-Clear_-4.9C_gain0_2025-01-28_162112_frame0003.fit',\n",
    " 'Dark_capella_25sec_Bin1_filter-Clear_-4.9C_gain0_2025-01-28_161942_frame0001.fit'\n",
    "    \n",
    "]\n",
    "\n",
    "darks_data= [fits.getdata(i) for i in dark]\n"
   ]
  },
  {
   "cell_type": "code",
   "execution_count": null,
   "id": "8091f91a",
   "metadata": {},
   "outputs": [],
   "source": [
    "mean_darks = np.mean(darks_data)\n",
    "print(\"Mean value =\",mean_darks)\n",
    "median_darks = np.median(darks_data)\n",
    "print(\"Median value =\",median_darks)"
   ]
  },
  {
   "cell_type": "code",
   "execution_count": null,
   "id": "01c63c9d",
   "metadata": {},
   "outputs": [],
   "source": [
    "dark_current_rate = mean_darks / median_darks\n",
    "print (dark_current_rate)"
   ]
  },
  {
   "cell_type": "code",
   "execution_count": null,
   "id": "ec8160f8",
   "metadata": {},
   "outputs": [],
   "source": [
    "for filename in dark:\n",
    "    header = fits.getheader(filename)\n",
    "    print(filename, header['EXPTIME'])\n",
    "    \n",
    "exp_times = [fits.getheader(filename)['EXPTIME'] for filename in dark]\n",
    "exp = tuple(exp_times)"
   ]
  },
  {
   "cell_type": "code",
   "execution_count": null,
   "id": "805589ba",
   "metadata": {},
   "outputs": [],
   "source": [
    "bias_subtracted_darks = darks_data - bias_mean\n",
    "mean_dark_current = np.mean(bias_subtracted_darks)\n",
    "\n",
    "dark_rate_estimate = mean_dark_current / exp\n",
    "\n",
    "print(\"Dark current counts =\", mean_dark_current)\n",
    "print(\"Dark rate (dark current / exposure time) =\", dark_rate_estimate, \"counts per second\")"
   ]
  },
  {
   "cell_type": "code",
   "execution_count": null,
   "id": "8f679a8f",
   "metadata": {},
   "outputs": [],
   "source": [
    "bright = [\n",
    " 'Flat_bright flat_1sec_Bin1_filter-B_-5.3C_gain0_2025-01-28_203129_frame0002.fit',\n",
    " 'Flat_bright flat_10sec_Bin1_filter-B_-4.9C_gain0_2025-01-28_203057_frame0002.fit',\n",
    " 'Flat_bright flat_30sec_Bin1_filter-B_-4.9C_gain0_2025-01-28_203033_frame0003.fit',\n",
    " 'Flat_bright flat_100sec_Bin1_filter-B_-4.9C_gain0_2025-01-28_202857_frame0003.fit',\n",
    " 'Flat_bright flat_3sec_Bin1_filter-B_-5.3C_gain0_2025-01-28_203115_frame0001.fit',\n",
    " 'Flat_bright flat_0.05sec_Bin1_filter-B_-4.9C_gain0_2025-01-28_203141_frame0001.fit',\n",
    " 'Flat_bright flat_1sec_Bin1_filter-B_-5.3C_gain0_2025-01-28_203127_frame0001.fit',\n",
    " 'Flat_bright flat_0.05sec_Bin1_filter-B_-4.9C_gain0_2025-01-28_203142_frame0002.fit',\n",
    " 'Flat_bright flat_0.3sec_Bin1_filter-B_-4.9C_gain0_2025-01-28_203137_frame0003.fit',\n",
    " 'Flat_bright flat_0.05sec_Bin1_filter-B_-4.9C_gain0_2025-01-28_203143_frame0003.fit',\n",
    " 'Flat_bright flat_30sec_Bin1_filter-B_-4.9C_gain0_2025-01-28_203002_frame0002.fit',\n",
    " 'Flat_bright flat_100sec_Bin1_filter-B_-4.9C_gain0_2025-01-28_202716_frame0002.fit',\n",
    " 'Flat_bright flat_0.3sec_Bin1_filter-B_-4.9C_gain0_2025-01-28_203136_frame0002.fit',\n",
    " 'Flat_bright flat_1sec_Bin1_filter-B_-5.3C_gain0_2025-01-28_203131_frame0003.fit',\n",
    " 'Flat_bright flat_0.3sec_Bin1_filter-B_-4.9C_gain0_2025-01-28_203135_frame0001.fit',\n",
    " 'Flat_bright flat_10sec_Bin1_filter-B_-4.9C_gain0_2025-01-28_203108_frame0003.fit',\n",
    " 'Flat_bright flat_3sec_Bin1_filter-B_-5.3C_gain0_2025-01-28_203123_frame0003.fit',\n",
    " 'Flat_bright flat_100sec_Bin1_filter-B_-5.3C_gain0_2025-01-28_202535_frame0001.fit',\n",
    " 'Flat_bright flat_10sec_Bin1_filter-B_-4.9C_gain0_2025-01-28_203046_frame0001.fit',\n",
    " 'Flat_bright flat_3sec_Bin1_filter-B_-5.3C_gain0_2025-01-28_203119_frame0002.fit',\n",
    " 'Flat_bright flat_30sec_Bin1_filter-B_-4.9C_gain0_2025-01-28_202931_frame0001.fit'\n",
    "]\n",
    "\n",
    "bright_data= [fits.getdata(i) for i in bright]"
   ]
  },
  {
   "cell_type": "code",
   "execution_count": null,
   "id": "ce2eb867",
   "metadata": {},
   "outputs": [],
   "source": [
    "glob.glob('*Flat_faint flat*')"
   ]
  },
  {
   "cell_type": "code",
   "execution_count": null,
   "id": "3aada0f9",
   "metadata": {},
   "outputs": [],
   "source": [
    "faint = [\n",
    " 'Flat_faint flat_10sec_Bin1_filter-B_-4.9C_gain0_2025-01-28_204118_frame0001.fit',\n",
    " 'Flat_faint flat_1sec_Bin1_filter-B_-4.9C_gain0_2025-01-28_204203_frame0003.fit',\n",
    " 'Flat_faint flat_0.3sec_Bin1_filter-B_-4.9C_gain0_2025-01-28_204207_frame0002.fit',\n",
    " 'Flat_faint flat_30sec_Bin1_filter-B_-4.9C_gain0_2025-01-28_204002_frame0001.fit',\n",
    " 'Flat_faint flat_0.05sec_Bin1_filter-B_-4.9C_gain0_2025-01-28_204212_frame0001.fit',\n",
    " 'Flat_faint flat_0.3sec_Bin1_filter-B_-4.9C_gain0_2025-01-28_204209_frame0003.fit',\n",
    " 'Flat_faint flat_3sec_Bin1_filter-B_-4.9C_gain0_2025-01-28_204150_frame0002.fit',\n",
    " 'Flat_faint flat_3sec_Bin1_filter-B_-4.9C_gain0_2025-01-28_204154_frame0003.fit',\n",
    " 'Flat_faint flat_100sec_Bin1_filter-B_-5.3C_gain0_2025-01-28_203748_frame0002.fit',\n",
    " 'Flat_faint flat_0.05sec_Bin1_filter-B_-4.9C_gain0_2025-01-28_204214_frame0003.fit',\n",
    " 'Flat_faint flat_1sec_Bin1_filter-B_-4.9C_gain0_2025-01-28_204159_frame0001.fit',\n",
    " 'Flat_faint flat_10sec_Bin1_filter-B_-4.9C_gain0_2025-01-28_204129_frame0002.fit',\n",
    " 'Flat_faint flat_30sec_Bin1_filter-B_-4.9C_gain0_2025-01-28_204104_frame0003.fit',\n",
    " 'Flat_faint flat_3sec_Bin1_filter-B_-4.9C_gain0_2025-01-28_204146_frame0001.fit',\n",
    " 'Flat_faint flat_0.05sec_Bin1_filter-B_-4.9C_gain0_2025-01-28_204213_frame0002.fit',\n",
    " 'Flat_faint flat_30sec_Bin1_filter-B_-4.9C_gain0_2025-01-28_204034_frame0002.fit',\n",
    " 'Flat_faint flat_100sec_Bin1_filter-B_-5.3C_gain0_2025-01-28_203929_frame0003.fit',\n",
    " 'Flat_faint flat_100sec_Bin1_filter-B_-5.3C_gain0_2025-01-28_203607_frame0001.fit',\n",
    " 'Flat_faint flat_0.3sec_Bin1_filter-B_-4.9C_gain0_2025-01-28_204206_frame0001.fit',\n",
    " 'Flat_faint flat_1sec_Bin1_filter-B_-4.9C_gain0_2025-01-28_204201_frame0002.fit',\n",
    " 'Flat_faint flat_10sec_Bin1_filter-B_-4.9C_gain0_2025-01-28_204140_frame0003.fit'\n",
    "]\n",
    "\n",
    "faint_data= [fits.getdata(i) for i in faint]"
   ]
  },
  {
   "cell_type": "code",
   "execution_count": null,
   "id": "0f123463",
   "metadata": {},
   "outputs": [],
   "source": [
    "bias_subtracted_bright = bright_data - bias_mean"
   ]
  },
  {
   "cell_type": "code",
   "execution_count": null,
   "id": "17d01f16",
   "metadata": {},
   "outputs": [],
   "source": [
    "bias_subtracted_faint = faint_data - bias_mean"
   ]
  },
  {
   "cell_type": "code",
   "execution_count": null,
   "id": "59add646",
   "metadata": {},
   "outputs": [],
   "source": [
    "avg_bright_counts = [] \n",
    "avg_faint_counts = []\n",
    "\n",
    "for bright_image in bias_subtracted_bright:\n",
    "    \n",
    "    n_bright_counts = np.mean(bright_image - mean_dark_current)\n",
    "    avg_bright_counts.append(n_bright_counts)\n",
    "\n",
    "\n",
    "for faint_image in bias_subtracted_faint:\n",
    "   \n",
    "    n_faint_counts = np.mean(faint_image - mean_dark_current)  \n",
    "    avg_faint_counts.append(n_faint_counts)"
   ]
  },
  {
   "cell_type": "code",
   "execution_count": null,
   "id": "72bcae99",
   "metadata": {},
   "outputs": [],
   "source": [
    "\n",
    "bright_files = [\n",
    "    'Flat_bright flat_1sec_Bin1_filter-B_-5.3C_gain0_2025-01-28_203129_frame0002.fit',\n",
    "    'Flat_bright flat_10sec_Bin1_filter-B_-4.9C_gain0_2025-01-28_203057_frame0002.fit',\n",
    "    'Flat_bright flat_30sec_Bin1_filter-B_-4.9C_gain0_2025-01-28_203033_frame0003.fit',\n",
    "    'Flat_bright flat_100sec_Bin1_filter-B_-4.9C_gain0_2025-01-28_202857_frame0003.fit',\n",
    "    'Flat_bright flat_3sec_Bin1_filter-B_-5.3C_gain0_2025-01-28_203115_frame0001.fit',\n",
    "    'Flat_bright flat_0.05sec_Bin1_filter-B_-4.9C_gain0_2025-01-28_203141_frame0001.fit',\n",
    "    'Flat_bright flat_1sec_Bin1_filter-B_-5.3C_gain0_2025-01-28_203127_frame0001.fit',\n",
    "    'Flat_bright flat_0.05sec_Bin1_filter-B_-4.9C_gain0_2025-01-28_203142_frame0002.fit',\n",
    "    'Flat_bright flat_0.3sec_Bin1_filter-B_-4.9C_gain0_2025-01-28_203137_frame0003.fit',\n",
    "    'Flat_bright flat_0.05sec_Bin1_filter-B_-4.9C_gain0_2025-01-28_203143_frame0003.fit',\n",
    "    'Flat_bright flat_30sec_Bin1_filter-B_-4.9C_gain0_2025-01-28_203002_frame0002.fit',\n",
    "    'Flat_bright flat_100sec_Bin1_filter-B_-4.9C_gain0_2025-01-28_202716_frame0002.fit',\n",
    "    'Flat_bright flat_0.3sec_Bin1_filter-B_-4.9C_gain0_2025-01-28_203136_frame0002.fit',\n",
    "    'Flat_bright flat_1sec_Bin1_filter-B_-5.3C_gain0_2025-01-28_203131_frame0003.fit',\n",
    "    'Flat_bright flat_0.3sec_Bin1_filter-B_-4.9C_gain0_2025-01-28_203135_frame0001.fit',\n",
    "    'Flat_bright flat_10sec_Bin1_filter-B_-4.9C_gain0_2025-01-28_203108_frame0003.fit',\n",
    "    'Flat_bright flat_3sec_Bin1_filter-B_-5.3C_gain0_2025-01-28_203123_frame0003.fit',\n",
    "    'Flat_bright flat_100sec_Bin1_filter-B_-5.3C_gain0_2025-01-28_202535_frame0001.fit',\n",
    "    'Flat_bright flat_10sec_Bin1_filter-B_-4.9C_gain0_2025-01-28_203046_frame0001.fit',\n",
    "    'Flat_bright flat_3sec_Bin1_filter-B_-5.3C_gain0_2025-01-28_203119_frame0002.fit',\n",
    "    'Flat_bright flat_30sec_Bin1_filter-B_-4.9C_gain0_2025-01-28_202931_frame0001.fit'\n",
    "]\n",
    "\n",
    "faint_files = [\n",
    "    'Flat_faint flat_10sec_Bin1_filter-B_-4.9C_gain0_2025-01-28_204118_frame0001.fit',\n",
    "    'Flat_faint flat_1sec_Bin1_filter-B_-4.9C_gain0_2025-01-28_204203_frame0003.fit',\n",
    "    'Flat_faint flat_0.3sec_Bin1_filter-B_-4.9C_gain0_2025-01-28_204207_frame0002.fit',\n",
    "    'Flat_faint flat_30sec_Bin1_filter-B_-4.9C_gain0_2025-01-28_204002_frame0001.fit',\n",
    "    'Flat_faint flat_0.05sec_Bin1_filter-B_-4.9C_gain0_2025-01-28_204212_frame0001.fit',\n",
    "    'Flat_faint flat_0.3sec_Bin1_filter-B_-4.9C_gain0_2025-01-28_204209_frame0003.fit',\n",
    "    'Flat_faint flat_3sec_Bin1_filter-B_-4.9C_gain0_2025-01-28_204150_frame0002.fit',\n",
    "    'Flat_faint flat_3sec_Bin1_filter-B_-4.9C_gain0_2025-01-28_204154_frame0003.fit',\n",
    "    'Flat_faint flat_100sec_Bin1_filter-B_-5.3C_gain0_2025-01-28_203748_frame0002.fit',\n",
    "    'Flat_faint flat_0.05sec_Bin1_filter-B_-4.9C_gain0_2025-01-28_204214_frame0003.fit',\n",
    "    'Flat_faint flat_1sec_Bin1_filter-B_-4.9C_gain0_2025-01-28_204159_frame0001.fit',\n",
    "    'Flat_faint flat_10sec_Bin1_filter-B_-4.9C_gain0_2025-01-28_204129_frame0002.fit',\n",
    "    'Flat_faint flat_30sec_Bin1_filter-B_-4.9C_gain0_2025-01-28_204104_frame0003.fit',\n",
    "    'Flat_faint flat_3sec_Bin1_filter-B_-4.9C_gain0_2025-01-28_204146_frame0001.fit',\n",
    "    'Flat_faint flat_0.05sec_Bin1_filter-B_-4.9C_gain0_2025-01-28_204213_frame0002.fit',\n",
    "    'Flat_faint flat_30sec_Bin1_filter-B_-4.9C_gain0_2025-01-28_204034_frame0002.fit',\n",
    "    'Flat_faint flat_100sec_Bin1_filter-B_-5.3C_gain0_2025-01-28_203929_frame0003.fit',\n",
    "    'Flat_faint flat_100sec_Bin1_filter-B_-5.3C_gain0_2025-01-28_203607_frame0001.fit',\n",
    "    'Flat_faint flat_0.3sec_Bin1_filter-B_-4.9C_gain0_2025-01-28_204206_frame0001.fit',\n",
    "    'Flat_faint flat_1sec_Bin1_filter-B_-4.9C_gain0_2025-01-28_204201_frame0002.fit',\n",
    "    'Flat_faint flat_10sec_Bin1_filter-B_-4.9C_gain0_2025-01-28_204140_frame0003.fit'\n",
    "]\n",
    "\n",
    "exp_times_b = [fits.getheader(f)['EXPTIME'] for f in bright_files]\n",
    "exp_times_f = [fits.getheader(f)['EXPTIME'] for f in faint_files]\n",
    "\n",
    "exp_bright = tuple(exp_times_b)\n",
    "exp_faint = tuple(exp_times_f)\n"
   ]
  },
  {
   "cell_type": "code",
   "execution_count": null,
   "id": "89a9e1d4",
   "metadata": {},
   "outputs": [],
   "source": [
    "plt.figure(figsize=(8, 6))\n",
    "plt.plot(exp_bright , avg_bright_counts, label='Bright Flat') \n",
    "plt.plot(exp_faint, avg_faint_counts, label='Faint Flat')  \n",
    "\n",
    "plt.xlabel('Exposure Time (s)')\n",
    "plt.ylabel('Average Pixel Count')\n",
    "plt.title('Average Counts vs. Exposure Time')\n",
    "plt.legend()\n",
    "\n",
    "plt.show()"
   ]
  },
  {
   "cell_type": "code",
   "execution_count": null,
   "id": "972ddbe5",
   "metadata": {},
   "outputs": [],
   "source": [
    "high_light_fit=np.polyfit(exp_bright, avg_bright_counts, 1.)\n",
    "print(\"The slope intercept equation for bright flats is:\", high_light_fit)"
   ]
  },
  {
   "cell_type": "code",
   "execution_count": null,
   "id": "76ce5eba",
   "metadata": {},
   "outputs": [],
   "source": [
    "low_light_fit=np.polyfit(exp_faint, avg_faint_counts, 1.)\n",
    "print(\"The slope intercept equation for bright flats is:\", low_light_fit)"
   ]
  },
  {
   "cell_type": "code",
   "execution_count": null,
   "id": "d99be6d5",
   "metadata": {},
   "outputs": [],
   "source": [
    "x_high_line =np.linspace(0,300,10)\n",
    "y_highline = x_high_line*high_light_fit[0]+high_light_fit[1]\n",
    "\n",
    "x_low_line =np.linspace(0,300,10)\n",
    "y_lowline =x_low_line*low_light_fit[0]+low_light_fit[1]\n",
    "\n",
    "plt.plot(x_high_line, y_highline, label='High Light Fit', color='blue')  # High light line in blue\n",
    "plt.plot(x_low_line, y_lowline, label='Low Light Fit', color='red')  # Low light line in red\n",
    "\n",
    "plt.xlabel('X Values')\n",
    "plt.ylabel('Y Values')\n",
    "plt.title('High and Low Light Fit Lines')\n",
    "\n",
    "plt.legend()\n",
    "\n",
    "plt.show()"
   ]
  },
  {
   "cell_type": "markdown",
   "id": "dba30165",
   "metadata": {},
   "source": [
    "Q: How does the gain vary with time? With saturation? With light level? How well does the data agree\n",
    "with your expectations? Is a line a good fit to the data?\n",
    "\n",
    "\n",
    "A: Gains seems to vary with the light level over time from changes in this is probably from outside factors like light through an open door. More light makes for a stronger signal with gain. Saturation happens when light hits a max value so higher light would cause a plateau. My high light line is much higher than the low light line, which means the camera is responding more strongly to the higher light levels. This is  is expected because the signal from the light source is stronger with more light. I would say a line is good if saturation is not a factor, I did not seem to reach any high saturation but if I did the line would be skewed. A curved line might be better in that case. \n",
    "\n",
    "#https://hamamatsu.magnet.fsu.edu/articles/ccdlinearity.html?utm_source=chatgpt.com"
   ]
  },
  {
   "cell_type": "code",
   "execution_count": null,
   "id": "6ce21fe9",
   "metadata": {},
   "outputs": [],
   "source": [
    "flat_field = 'Flat_bright flat_100sec_Bin1_filter-B_-4.9C_gain0_2025-01-28_202716_frame0002.fit'\n",
    "data_flat = fits.getdata(flat_field)"
   ]
  },
  {
   "cell_type": "code",
   "execution_count": null,
   "id": "838dfec9",
   "metadata": {},
   "outputs": [],
   "source": [
    "avg= data_flat.std(axis=0, ddof=1)\n",
    "avg_pixel = avg.mean()\n",
    "print(\"The average over all pixels =\", avg_pixel)\n",
    "\n",
    "normalized_flat = data_flat / avg_pixel\n",
    "\n",
    "fits.writeto('normalized_flat_image.fit', normalized_flat, overwrite=True)"
   ]
  },
  {
   "cell_type": "code",
   "execution_count": null,
   "id": "e6432c0d",
   "metadata": {},
   "outputs": [],
   "source": []
  }
 ],
 "metadata": {
  "kernelspec": {
   "display_name": "Python 3 (ipykernel)",
   "language": "python",
   "name": "python3"
  },
  "language_info": {
   "codemirror_mode": {
    "name": "ipython",
    "version": 3
   },
   "file_extension": ".py",
   "mimetype": "text/x-python",
   "name": "python",
   "nbconvert_exporter": "python",
   "pygments_lexer": "ipython3",
   "version": "3.10.9"
  }
 },
 "nbformat": 4,
 "nbformat_minor": 5
}
